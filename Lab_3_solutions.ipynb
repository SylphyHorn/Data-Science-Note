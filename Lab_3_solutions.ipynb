{
  "nbformat": 4,
  "nbformat_minor": 0,
  "metadata": {
    "kernelspec": {
      "display_name": "Python 3",
      "language": "python",
      "name": "python3"
    },
    "language_info": {
      "codemirror_mode": {
        "name": "ipython",
        "version": 3
      },
      "file_extension": ".py",
      "mimetype": "text/x-python",
      "name": "python",
      "nbconvert_exporter": "python",
      "pygments_lexer": "ipython3",
      "version": "3.8.11"
    },
    "colab": {
      "name": "Lab_3_solutions.ipynb",
      "provenance": [],
      "include_colab_link": true
    }
  },
  "cells": [
    {
      "cell_type": "markdown",
      "metadata": {
        "id": "view-in-github",
        "colab_type": "text"
      },
      "source": [
        "<a href=\"https://colab.research.google.com/github/SylphyHorn/Data-Science-Note/blob/main/Lab_3_solutions.ipynb\" target=\"_parent\"><img src=\"https://colab.research.google.com/assets/colab-badge.svg\" alt=\"Open In Colab\"/></a>"
      ]
    },
    {
      "cell_type": "markdown",
      "metadata": {
        "id": "7yYkBMS11XQu"
      },
      "source": [
        "# Lab session 03: Functions, debugging, and lists"
      ]
    },
    {
      "cell_type": "markdown",
      "metadata": {
        "id": "l7mZOows1XQy"
      },
      "source": [
        "\n",
        "## Warming up exercise\n",
        "\n",
        "Here we will start by practicing how to define functions again. Remember that the keywords `def` and `return` are essential. For instance, we can define a function `camelcase` that capitalizes two strings and returns their sum as\n",
        "\n",
        "```python\n",
        "def camelcase(s1, s2): \n",
        "    s1 = s1.capitalize() \n",
        "    s2 = s2.capitalize() \n",
        "    s_sum = s1 + s2 \n",
        "    return s_sum \n",
        "```\n",
        "\n",
        "The function is not written very efficiently. In fact, the variable assignments are not necessary. Let's give it another try. This implementation gives the same result but is more elegant:\n",
        "\n",
        "```python\n",
        "def camelcase(s1, s2): \n",
        "    return s1.capitalize() + s2.capitalize() \n",
        "```\n",
        "\n",
        "and we can call it e.g. using `camelcase('hello', 'world')`.\n",
        "\n",
        "Now it's your turn: Define a function `double_star` that takes a string as input and wraps it into double stars. For instance, `double_star('Python is great')` returns `'**Python is great**'`."
      ]
    },
    {
      "cell_type": "code",
      "metadata": {
        "id": "CZh2s-Qn1XQz",
        "outputId": "eacddc48-3f17-4b11-d253-b6a1d9a6630f"
      },
      "source": [
        "def double_star(s):\n",
        "    return '**' + s + '**'\n",
        "\n",
        "s = 'Python is great'\n",
        "print(double_star(s))"
      ],
      "execution_count": null,
      "outputs": [
        {
          "name": "stdout",
          "output_type": "stream",
          "text": [
            "**Python is great**\n"
          ]
        }
      ]
    },
    {
      "cell_type": "markdown",
      "metadata": {
        "id": "c0QqpMrq1XQ1"
      },
      "source": [
        "\n",
        "## Warming up exercise: triangle \n",
        "\n",
        "Define a function `triangle` that takes triangle size as a parameter and returns a string representing a triangle consisting of `*`'s. For instance, the output of \n",
        "\n",
        "```python\n",
        "s = triangle(3)\n",
        "print(s)\n",
        "```\n",
        "\n",
        "is\n",
        "\n",
        "```\n",
        "*\n",
        "**\n",
        "***\n",
        "```\n",
        "\n",
        "and the output of\n",
        "\n",
        "```python\n",
        "s = triangle(7)\n",
        "print(s)\n",
        "```\n",
        "\n",
        "is\n",
        "\n",
        "```\n",
        "*\n",
        "**\n",
        "***\n",
        "****\n",
        "*****\n",
        "******\n",
        "*******\n",
        "```\n",
        "\n",
        "Hint: use a for loop and string concatenation."
      ]
    },
    {
      "cell_type": "code",
      "metadata": {
        "id": "ZUXNPmJI1XQ2",
        "outputId": "23279ffa-516f-4f1d-ed9d-36c71125e0ba"
      },
      "source": [
        "def triangle(size):\n",
        "    s = ''\n",
        "    for i in range(1, size+1):\n",
        "        s += '*' * i + '\\n'\n",
        "    return s\n",
        "        \n",
        "s = triangle(7)\n",
        "print(s)"
      ],
      "execution_count": null,
      "outputs": [
        {
          "name": "stdout",
          "output_type": "stream",
          "text": [
            "*\n",
            "**\n",
            "***\n",
            "****\n",
            "*****\n",
            "******\n",
            "*******\n",
            "\n"
          ]
        }
      ]
    },
    {
      "cell_type": "markdown",
      "metadata": {
        "id": "snwKRw2k1XQ3"
      },
      "source": [
        "## Guess a letter\n",
        "\n",
        "Write a program using a `while` loop wherein the user is repeatedly asked to guess a lowercase letter that has been randomly chosen. Give hints ('higher' and 'lower') to the user. Terminate when the correct letter has been guessed and output the number of guesses.\n",
        "\n",
        "Hints:\n",
        "\n",
        "- define a string with the lowercase alphabet\n",
        "- use the `random.choice` function in the `random` module to generate a `random_letter` from this alphabet\n",
        "- use the `input` function to ask for user input and store it in a variable `user_letter`\n",
        "- compare `random_letter` and `user_letter` using lexicographic comparison to decide whether to output 'higher' or 'lower'\n",
        "- store the number of guesses in a variable `nr_guesses`\n"
      ]
    },
    {
      "cell_type": "code",
      "metadata": {
        "colab": {
          "base_uri": "https://localhost:8080/"
        },
        "id": "xzQ9iOXd1XQ3",
        "outputId": "7a9947e4-13a4-4adb-932c-b34a495f85d3"
      },
      "source": [
        "import random\n",
        "\n",
        "# Randomly choose a letter\n",
        "letters = 'abcdefghijklmopqrstuvwxyz'\n",
        "random_letter = random.choice(letters)\n",
        "\n",
        "user_letter = '';\n",
        "nr_guesses = 0\n",
        "\n",
        "# Loop until the user guesses the correct letter\n",
        "while random_letter != user_letter:\n",
        "    user_letter = input('Choose a letter and hit enter: ')\n",
        "    \n",
        "    # Give hints\n",
        "    if random_letter > user_letter:\n",
        "        print('Higher..')\n",
        "    elif random_letter < user_letter:\n",
        "        print('Lower..')\n",
        "    nr_guesses += 1\n",
        "    \n",
        "print('Letter {} is correct! You needed {} guesses!'.format(user_letter, nr_guesses))"
      ],
      "execution_count": null,
      "outputs": [
        {
          "output_type": "stream",
          "name": "stdout",
          "text": [
            "Choose a letter and hit enter: d\n",
            "Higher..\n",
            "Choose a letter and hit enter: o\n",
            "Higher..\n",
            "Choose a letter and hit enter: t\n",
            "Lower..\n",
            "Choose a letter and hit enter: r\n",
            "Lower..\n",
            "Choose a letter and hit enter: p\n",
            "Letter p is correct! You needed 5 guesses!\n"
          ]
        }
      ]
    },
    {
      "cell_type": "markdown",
      "metadata": {
        "id": "uGFhPaDe1XQ4"
      },
      "source": [
        "## Debugging"
      ]
    },
    {
      "cell_type": "markdown",
      "metadata": {
        "id": "KGHpPJJv1XQ4"
      },
      "source": [
        "The following program code is supposed to convert degrees (from 0 to 360) to radians (from 0 to $2\\pi$). This is done by calculating radians = deg $/ 360 * 2\\pi$. Copy-paste the code below or download the file `debug1.py` from learning central containing the same code. The program crashes because it has **4** mistakes. Try to find the mistakes and correct the program. Use `print()` and `type()` functions if useful.\n",
        "\n",
        "\n",
        "```python\n",
        "import math\n",
        "\n",
        "def convert_degree_to_radians(x):\n",
        "rad = x // 360 * 2 * math.pi\n",
        "\n",
        "# Ask for user input\n",
        "degree = input('Enter the degree you want to convert: ')\n",
        "\n",
        "# Call the conversion function\n",
        "rad = convert_degree_to_radians(degree)\n",
        "\n",
        "# Print the result\n",
        "print('An angle of {} in degrees is {} in radians'.format(degree, rad))\n",
        "```\n"
      ]
    },
    {
      "cell_type": "code",
      "metadata": {
        "id": "AKZ31RMm1XQ4",
        "outputId": "1afdbf95-9109-4002-c95d-b213fda1f227"
      },
      "source": [
        "# this is the debugged version\n",
        "# the mistakes were:\n",
        "# 1 - missing indentation for function code block\n",
        "# 2 - missing return command\n",
        "# 3 - user input needs to be converted from string to float\n",
        "# 4 - the formula has to be changed from integer division to float division\n",
        "import math\n",
        "\n",
        "\n",
        "def convert_degree_to_radians(x):\n",
        "    rad = x / 360 * 2 * math.pi\n",
        "    return rad\n",
        "\n",
        "\n",
        "# Ask for user input\n",
        "degree = float(input('Enter the degree you want to convert: '))\n",
        "\n",
        "# Call the conversion function\n",
        "rad = convert_degree_to_radians(degree)\n",
        "\n",
        "# Print the result\n",
        "print('An angle of {} in degrees is {} in radians'.format(degree, rad))"
      ],
      "execution_count": null,
      "outputs": [
        {
          "name": "stdout",
          "output_type": "stream",
          "text": [
            "Enter the degree you want to convert: 180\n",
            "An angle of 180.0 in degrees is 3.141592653589793 in radians\n"
          ]
        }
      ]
    },
    {
      "cell_type": "markdown",
      "metadata": {
        "id": "KWOwRhXK1XQ5"
      },
      "source": [
        "## Indexing and slicing lists\n",
        "\n",
        "Let `a` be a list. The indexing operator `a[n]` gives access to the nth element of the list. The slicing operator `a[i:j]` gives access to a subsequence of the list, and can be given an optional step allowing the subsequence to skip elements. Define a list containing the integers 0, 1, 2, ..., 9 by `a = list(range(10))`.\n",
        "\n",
        "What is the output of \n",
        "\n",
        "- `a[2]`\n",
        "- `a[10]`\n",
        "- `a[-3]`\n",
        "- `a[0:3]`\n",
        "- `a[:3]`\n",
        "- `a[4:]`\n",
        "- `a[:]`\n",
        "- `a[::2]`\n",
        "- `a[5::-1]`\n",
        "- `a[::2][3]`\n",
        "\n",
        "Next, replace each `*` with a single character in the following to give the desired output:\n",
        "\n",
        "- `a[*]` to give 4 \n",
        "- `a[-*]` to give 4\n",
        "- `a[*:*]` to give [0, 1] \n",
        "- `a[:*]` to give [0, 1, 2]\n",
        "- `a[-*:]` to give [8, 9]\n",
        "- `a[::*]` to give [0, 3, 6, 9]\n",
        "- `a[::**]`  to give [9, 6, 3, 0]\n",
        "\n",
        "Provide code containing one or more slices which gives:\n",
        "\n",
        "- All even numbers in ascending order\n",
        "- The reverse of `a`\n",
        "- All odd numbers in descending order\n",
        "- The two highest odd numbers in descending order\n",
        "\n",
        "What do the following do? Reinitialise `a = list(range(10))` before each. Try to work these out before running the code to check your answer:\n",
        "\n",
        "- `a[0] = 10`\n",
        "- `a[2:4] = [\"a\", \"b\"]`\n",
        "- `a[2:4] = [\"a\", \"b\", \"c\", \"d\"]`\n",
        "- `a[2:4:2] = [\"a\", \"b\"]`\n",
        "- `a[2:6:2] = [\"a\", \"b\"]`\n",
        "- `del a[0:2]`\n",
        "- `del a[::2]`\n",
        "- `a[1::2] = a[::-2]`\n"
      ]
    },
    {
      "cell_type": "markdown",
      "metadata": {
        "id": "sy4bwsxJ1XQ5"
      },
      "source": [
        "----\n",
        "\n",
        "# Advanced exercises (optional)"
      ]
    },
    {
      "cell_type": "markdown",
      "metadata": {
        "id": "mLPXcRjq1XQ5"
      },
      "source": [
        "\n",
        "## (A) Check and fix variable name\n",
        "\n",
        "In week 1 we discussed what strings are valid variable names: variable names can only contain uppercase and lowercase letters, numbers, and the underscore \\_. A variable *cannot* start with a number. Write a function `is_valid_name(name)`  that takes a candidate variable name as an input and that returns `True` if the variable name is valid and returns `False` if it is invalid.\n",
        "\n",
        "<!--\n",
        "For instance, in this example code\n",
        "\n",
        "```\n",
        "name = \"_X2\"\n",
        "isvalid = is_valid_name(name)\n",
        "```\n",
        "\n",
        "yields `isvalid` is `True`  since `_X2` is a valid variable name. However, setting `name = \"2X\"` yields `False`. You can take the following code as a starting point. You need to fill in the `TODOs`.\n",
        "\n",
        "```python\n",
        "def is_valid_name(name):\n",
        "    valid_characters = '_0123456789abcdefghijklmnopqrstuvwxyzABCDEFGHIJKLMNOPQRSTUVWXYZ'\n",
        "    # Check whether only valid characters are used\n",
        "    # ... TODO ...\n",
        "    # All characters are valid. Now we need to check that the variable name does NOT start with a number\n",
        "    # ... TODO ...\n",
        "\n",
        "    \n",
        "name = \"_X2\"\n",
        "isvalid = is_valid_name(name)\n",
        "# ...TODO ... \n",
        "# create an if-else statement here to print \n",
        "# whether the name is valid or invalid\n",
        "\n",
        "```\n",
        "\n",
        "Can you shorten the code using the `isalnum` method?\n",
        "\n",
        "\n",
        "-->"
      ]
    },
    {
      "cell_type": "code",
      "metadata": {
        "id": "tuGW6Rgr1XQ6",
        "outputId": "56001df3-25c4-425a-da38-e75ace81883e"
      },
      "source": [
        "# solution version 1\n",
        "\n",
        "def is_valid_name(name):\n",
        "    valid_characters = '_0123456789abcdefghijklmnopqrstuvwxyzABCDEFGHIJKLMNOPQRSTUVWXYZ'\n",
        "    # Check whether only valid characters are used\n",
        "    for c in name:\n",
        "        if not c in valid_characters:\n",
        "            return False\n",
        "    # All characters are valid. Now we need to check that the variable name does NOT \n",
        "    # start with a number\n",
        "    if name[0] in '0123456789':\n",
        "        return False\n",
        "    # If we haven't returned False yet, the name is valid: we can return True\n",
        "    return True\n",
        "\n",
        "name = \"1____2\"\n",
        "isvalid = is_valid_name(name)\n",
        "if isvalid:\n",
        "    print(name, 'is a valid variable name')\n",
        "else:\n",
        "    print(name, 'is an invalid variable name')"
      ],
      "execution_count": null,
      "outputs": [
        {
          "name": "stdout",
          "output_type": "stream",
          "text": [
            "1____2 is an invalid variable name\n"
          ]
        }
      ]
    },
    {
      "cell_type": "code",
      "metadata": {
        "id": "soFCT7291XQ6",
        "outputId": "5f7493ac-d8af-4b25-9c9c-03a298406a43"
      },
      "source": [
        "# solution version 2\n",
        "# the function is_valid_name can be written somewhat shorter by \n",
        "# summarising the last 3 lines in a single statement\n",
        "# Also the isalnum method can be used to check for letters and numbers\n",
        "\n",
        "def is_valid_name(name):\n",
        "    valid_characters = '_0123456789abcdefghijklmnopqrstuvwxyzABCDEFGHIJKLMNOPQRSTUVWXYZ'\n",
        "    # Check whether only valid characters are used\n",
        "    for c in name:\n",
        "        if not (c.isalnum() or c == '_'):\n",
        "            return False\n",
        "    # All characters are valid. Now we need to check that the variable name does \n",
        "    # NOT start with a number\n",
        "    return name[0] not in '0123456789'\n",
        "\n",
        "name = \"a$a____2\"\n",
        "isvalid = is_valid_name(name)\n",
        "if isvalid:\n",
        "    print(name, 'is a valid variable name')\n",
        "else:\n",
        "    print(name, 'is an invalid variable name')"
      ],
      "execution_count": null,
      "outputs": [
        {
          "name": "stdout",
          "output_type": "stream",
          "text": [
            "a$a____2 is an invalid variable name\n"
          ]
        }
      ]
    },
    {
      "cell_type": "markdown",
      "metadata": {
        "id": "PFNVd5u01XQ7"
      },
      "source": [
        "Then, write another function `fix_variable_name` that takes a variable name as a string returns a valid version. For instance, a fix for `2myvar` would be `_myvar`."
      ]
    },
    {
      "cell_type": "code",
      "metadata": {
        "id": "eR8bJ3ck1XQ7",
        "outputId": "867466f9-2a57-4d40-9e54-863fbfcabaf7"
      },
      "source": [
        "def fix_variable_name(name):\n",
        "    if is_valid_name(name):\n",
        "        # if it's valid we can just return the name\n",
        "        return name\n",
        "    # If the function hasn't returned yet, the name is invalid.\n",
        "    # The strategy for fixing is simply replacing invalid letters\n",
        "    # by underscores _\n",
        "    new_name = list(name)\n",
        "    valid_characters = '_0123456789abcdefghijklmnopqrstuvwxyzABCDEFGHIJKLMNOPQRSTUVWXYZ'\n",
        "    for i in range(len(name)):\n",
        "        if not name[i].isalnum():\n",
        "            new_name[i] = '_'\n",
        "            \n",
        "    # All characters may be valid but we must still not start with a number\n",
        "    if name[0] in '0123456789':\n",
        "        new_name[0] = '_'\n",
        "    return ''.join(new_name)\n",
        "        \n",
        "        \n",
        "name = \"10myvar\"\n",
        "isvalid = is_valid_name(name)\n",
        "new_name = fix_variable_name(name)\n",
        "if isvalid:\n",
        "    print(name, 'is a valid variable name')\n",
        "else:\n",
        "    print(name, 'is an invalid variable name')       \n",
        "    print('It was fixed to', new_name)\n"
      ],
      "execution_count": null,
      "outputs": [
        {
          "name": "stdout",
          "output_type": "stream",
          "text": [
            "10myvar is an invalid variable name\n",
            "It was fixed to _0myvar\n"
          ]
        }
      ]
    },
    {
      "cell_type": "markdown",
      "metadata": {
        "id": "bouGVh8Q1XQ8"
      },
      "source": [
        "----\n",
        "\n",
        "# Homework"
      ]
    },
    {
      "cell_type": "markdown",
      "metadata": {
        "id": "v2wdQQ561XQ8"
      },
      "source": [
        "## (H) Tuples and lists\n",
        "\n",
        "Given two tuples, for example, `a = (2, 3, 4, 6, 7, 8)` and `b = (5, 1, 2, 7, 8, 10, 35)`, write a program that produces a list composed of elements that occur in both tuples. For example, for the two tuples given above, the program produces and prints out the following list: `[2, 7, 8]`.\n",
        "\n",
        "Can you amend your program such that an element appears only once even if its occurs multiple times in `a` and `b`?"
      ]
    },
    {
      "cell_type": "code",
      "metadata": {
        "id": "SYpr3F4D1XQ8",
        "outputId": "3aa98618-9786-4b9a-b086-4cd2198c5fde"
      },
      "source": [
        "# a nested loop is used to find the intersecting letters\n",
        "\n",
        "def intersect(a,b):\n",
        "    intersection = list()\n",
        "    # Traverse through all elements in a\n",
        "    for el in a:\n",
        "        # Look if the current element el is contained in b\n",
        "        # We also need to double check that it has not been added before\n",
        "        if (el in b) and (el not in intersection):\n",
        "            intersection.append(el)\n",
        "    print(intersection)\n",
        "    return intersection\n",
        "\n",
        "a = (2, 3, 4, 6, 7, 7, 8, 8)\n",
        "b = (5, 1, 2, 7, 8, 7, 8, 10, 35)\n",
        "\n",
        "out = intersect(a,b)"
      ],
      "execution_count": null,
      "outputs": [
        {
          "name": "stdout",
          "output_type": "stream",
          "text": [
            "[2, 7, 8]\n"
          ]
        }
      ]
    },
    {
      "cell_type": "markdown",
      "metadata": {
        "id": "-x3_qJw01XQ9"
      },
      "source": [
        "## (H) Lists\n",
        "\n",
        "\n",
        "Write Python statements that achieve the following (in order):\n",
        "\n",
        "1. Create a list containing the strings `\"football\",\"rugby\",\"hockey\"` and `\"tennis\"`. \n",
        "2. Print the first and last elements of the list\n",
        "3. Add the element `\"cycling\"` to the end of the list. \n",
        "4. Print how many elements the list has.\n",
        "5. Print the first letter of each element of the list \n",
        "6. Remove the element `\"football\"`.\n",
        "7. Create a new list containing only the middle 2 elements of the current list.\n",
        "\n",
        "Enter the commands:\n",
        "\n",
        "```python\n",
        "x = [1,2,3,4]\n",
        "x.pop(3)\n",
        "x.remove(3)\n",
        "```\n",
        "\n",
        "What is the difference between the functions `pop` and `remove`? Why does only one produce output? Provide code that creates a list containing the letters `a,b,c,d,e`, then deletes the 4th element of the list (remembering that we start indexing lists at element 0!), and finally deletes the element `a`."
      ]
    },
    {
      "cell_type": "markdown",
      "metadata": {
        "id": "rxpENjP61XQ9"
      },
      "source": [
        "## (H) Iteration\n",
        "\n",
        "Suppose you have a number of pallets to be loaded onto a lorry with a weight limit of 3,000 Kg. Assuming the weights of each pallets (in Kg) are stored in a list (e.g. `weights = [750, 387, 291, 712, 100, 622, 109, 750, 282]` ), write a function that uses a `while` loop to consider each pallet in turn. If it can be added to the lorry without overloading, then print its weight to the screen and continue to the next pallet. If it would overload the lorry, then stop loading and print out the total weight added so far."
      ]
    },
    {
      "cell_type": "code",
      "metadata": {
        "id": "EUw4gyyj1XQ9",
        "outputId": "5a358be1-7ec1-4508-fb86-c4c09caa9ad6"
      },
      "source": [
        "def load_pallets(weights):\n",
        "    \"\"\"Load pallets into lorry.\"\"\"\n",
        "    max_weight = 3000\n",
        "    total_weight = 0\n",
        "    i = 0\n",
        "    while i < len(weights):\n",
        "        if total_weight + weights[i] < max_weight:\n",
        "            total_weight += weights[i]\n",
        "            print('Loaded item {} with a weight of {} kg'.format(i, weights[i]))\n",
        "        else:\n",
        "            print('Lorry fully loaded. Total weight: {} kg.'.format(total_weight))\n",
        "            break\n",
        "        i += 1\n",
        "\n",
        "weights = [750, 387, 291, 712, 100, 622, 109, 750, 282]\n",
        "load_pallets(weights)"
      ],
      "execution_count": null,
      "outputs": [
        {
          "name": "stdout",
          "output_type": "stream",
          "text": [
            "Loaded item 0 with a weight of 750 kg\n",
            "Loaded item 1 with a weight of 387 kg\n",
            "Loaded item 2 with a weight of 291 kg\n",
            "Loaded item 3 with a weight of 712 kg\n",
            "Loaded item 4 with a weight of 100 kg\n",
            "Loaded item 5 with a weight of 622 kg\n",
            "Loaded item 6 with a weight of 109 kg\n",
            "Lorry fully loaded. Total weight: 2971 kg.\n"
          ]
        }
      ]
    }
  ]
}