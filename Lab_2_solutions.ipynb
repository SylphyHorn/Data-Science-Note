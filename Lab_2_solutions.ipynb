{
  "nbformat": 4,
  "nbformat_minor": 0,
  "metadata": {
    "kernelspec": {
      "display_name": "Python 3",
      "language": "python",
      "name": "python3"
    },
    "language_info": {
      "codemirror_mode": {
        "name": "ipython",
        "version": 3
      },
      "file_extension": ".py",
      "mimetype": "text/x-python",
      "name": "python",
      "nbconvert_exporter": "python",
      "pygments_lexer": "ipython3",
      "version": "3.8.11"
    },
    "colab": {
      "name": "Lab_2_solutions.ipynb",
      "provenance": [],
      "include_colab_link": true
    }
  },
  "cells": [
    {
      "cell_type": "markdown",
      "metadata": {
        "id": "view-in-github",
        "colab_type": "text"
      },
      "source": [
        "<a href=\"https://colab.research.google.com/github/SylphyHorn/Data-Science-Note/blob/main/Lab_2_solutions.ipynb\" target=\"_parent\"><img src=\"https://colab.research.google.com/assets/colab-badge.svg\" alt=\"Open In Colab\"/></a>"
      ]
    },
    {
      "cell_type": "markdown",
      "metadata": {
        "id": "v8KdtjEi2wXA"
      },
      "source": [
        "# Lab session 02\n",
        "\n",
        "\n",
        "## Evaluating expressions\n",
        "\n",
        "What is the output for each of the following expressions? Note your answer on a sheet of paper. Then double-check using the Python interpreter.\n",
        "\n",
        "---- \n",
        "\n",
        "```python\n",
        "t1=True; t2=False\n",
        "a, b, c = 100, 200, 300\n",
        "print( a < b < c, t1 and t2, (not t1) or (not t2))\n",
        "```\n",
        "\n",
        "----\n",
        "\n",
        "```python\n",
        "for i in range(40, 0, -5):\n",
        "    if (i % 3 == 0):\n",
        "        print(i, end=',')\n",
        "```\n",
        "----\n",
        "\n",
        "```python\n",
        "st1 = 'He had a run in the park.'\n",
        "st2 = 'The family went to the park to feed the ducks.'\n",
        "st3=''\n",
        "for c in st1:\n",
        "    if c in st2:\n",
        "        st3 += c\n",
        "```\n",
        "\n",
        "----\n",
        "\n",
        "```python\n",
        "for i in range(3, 40):\n",
        "    if i == 36:\n",
        "        break\n",
        "    if (i % 2 == 0) or (i % 3 == 0) or (i % 5 == 0):\n",
        "        continue\n",
        "    print(i, end= ' ')\n",
        "```\n",
        "\n",
        "----\n",
        "\n",
        "```python\n",
        "st ='Hello World!'\n",
        "st2 = st[::-1]\n",
        "print(st2)\n",
        "```\n",
        "\n",
        "----\n",
        "\n",
        "```python\n",
        "def foo (a, b):\n",
        "    return a+b, a//b, a%b\n",
        "i, j, k = foo(20, 5)\n",
        "print(\"{}, {}, {}\".format(i, j, k))\n",
        "```\n",
        "\n",
        "----\n"
      ]
    },
    {
      "cell_type": "code",
      "metadata": {
        "id": "pUD0Z2v42wXD",
        "colab": {
          "base_uri": "https://localhost:8080/"
        },
        "outputId": "8e9b11ba-ab18-4cf1-9d3c-8f8d74eac2a9"
      },
      "source": [
        "# Program code with comments\n",
        "\n",
        "t1=True; t2=False\n",
        "a, b, c = 100, 200, 300\n",
        "print( a<b<c, t1 and t2, (not t1) or (not t2))\n"
      ],
      "execution_count": null,
      "outputs": [
        {
          "output_type": "stream",
          "name": "stdout",
          "text": [
            "True False True\n"
          ]
        }
      ]
    },
    {
      "cell_type": "code",
      "metadata": {
        "id": "qDdHsOtj2wXF",
        "colab": {
          "base_uri": "https://localhost:8080/"
        },
        "outputId": "9cbdf42b-375a-4810-88ff-4daa19eb4044"
      },
      "source": [
        "for i in range(40, 0, -5):\n",
        "    if (i%3 == 0):\n",
        "        print(i, end=',')\n"
      ],
      "execution_count": null,
      "outputs": [
        {
          "output_type": "stream",
          "name": "stdout",
          "text": [
            "30,15,"
          ]
        }
      ]
    },
    {
      "cell_type": "code",
      "metadata": {
        "id": "gxcSGIYD2wXG",
        "colab": {
          "base_uri": "https://localhost:8080/"
        },
        "outputId": "a7a0843e-ee56-4b32-f8b8-71a978b815be"
      },
      "source": [
        "st1 = 'He had a run in the park.'\n",
        "st2 = 'The family went to feed the ducks.'\n",
        "st3=''\n",
        "# In this loop every letter of st1 is checked:\n",
        "# If the letter also occurs in st2 (c in st2), then\n",
        "# it is added to st3, otherwise it is left out.\n",
        "for c in st1:\n",
        "    if c in st2:\n",
        "        st3+=c\n",
        "        \n",
        "print(st3)"
      ],
      "execution_count": null,
      "outputs": [
        {
          "output_type": "stream",
          "name": "stdout",
          "text": [
            "e had a un in the ak.\n"
          ]
        }
      ]
    },
    {
      "cell_type": "code",
      "metadata": {
        "id": "j2nGtIGm2wXG",
        "colab": {
          "base_uri": "https://localhost:8080/"
        },
        "outputId": "1e7f2ce2-3174-4ee9-c3a6-85055a298b98"
      },
      "source": [
        "for i in range(3, 40):\n",
        "    if i==36:\n",
        "        # The for loop breaks/stops when i reaches 36\n",
        "        break\n",
        "    if (i % 2 == 0) or (i % 3 == 0) or (i % 5 == 0):\n",
        "        continue\n",
        "    # If the number can be divided by 2, 3 or 5\n",
        "    # the continue statement above is executed. So the print \n",
        "    # command below is only executed if the number is NOT\n",
        "    # divisible by 2, 3 or 5\n",
        "    print(i, end= ' ')"
      ],
      "execution_count": null,
      "outputs": [
        {
          "output_type": "stream",
          "name": "stdout",
          "text": [
            "7 11 13 17 19 23 29 31 "
          ]
        }
      ]
    },
    {
      "cell_type": "code",
      "metadata": {
        "id": "pUxVVWgA2wXH",
        "colab": {
          "base_uri": "https://localhost:8080/"
        },
        "outputId": "d38401c3-1ead-45e5-e352-5e90a8e216d6"
      },
      "source": [
        "st ='Hello World!'\n",
        "# We can get the reverse of a string \n",
        "st2 = st[::-1]\n",
        "print(st2)\n"
      ],
      "execution_count": null,
      "outputs": [
        {
          "output_type": "stream",
          "name": "stdout",
          "text": [
            "!dlroW olleH\n"
          ]
        }
      ]
    },
    {
      "cell_type": "code",
      "metadata": {
        "id": "azNQo3TD2wXH"
      },
      "source": [
        "def foo (a, b):\n",
        "    \"\"\"Calculates the sum, integer division and remainder of a and b\"\"\"\n",
        "    return a+b, a//b, a%b\n",
        "i, j, k = foo(20, 5)\n",
        "print(\"{}, {}, {}\".format(i, j, k))\n"
      ],
      "execution_count": null,
      "outputs": []
    },
    {
      "cell_type": "markdown",
      "metadata": {
        "id": "zJPqjZVr2wXI"
      },
      "source": [
        "## Modules"
      ]
    },
    {
      "cell_type": "markdown",
      "metadata": {
        "id": "VHngd5KE2wXI"
      },
      "source": [
        "Typing ```import math``` will let you use functions from the built-in [math](https://docs.python.org/3/library/math.html) module. In Python, you can type\n",
        "\n",
        "```python\n",
        "help(math)\n",
        "```\n",
        "\n",
        "to see the available functions. It will print all the available function in `math`. Using functions from this module, print: \n",
        "\n",
        "- the square root of 2498\n",
        "- $\\pi$\n",
        "- $log(1+e^2)$\n",
        "- the sine of all integers from 1 to 20 \n",
        "\n"
      ]
    },
    {
      "cell_type": "code",
      "metadata": {
        "id": "2D-t-yb22wXI",
        "colab": {
          "base_uri": "https://localhost:8080/"
        },
        "outputId": "f48c0e6f-01a5-4d7e-bbb0-830537dc7d84"
      },
      "source": [
        "import math\n",
        "print(math.sqrt(2498))\n",
        "print(math.pi)\n",
        "print(math.log(1+math.exp(2)))\n",
        "for x in range(1,21):\n",
        "    print(math.sin(x), end=\", \")\n",
        "print()"
      ],
      "execution_count": null,
      "outputs": [
        {
          "output_type": "stream",
          "name": "stdout",
          "text": [
            "49.9799959983992\n",
            "3.141592653589793\n",
            "2.1269280110429727\n",
            "0.8414709848078965, 0.9092974268256817, 0.1411200080598672, -0.7568024953079282, -0.9589242746631385, -0.27941549819892586, 0.6569865987187891, 0.9893582466233818, 0.4121184852417566, -0.5440211108893698, -0.9999902065507035, -0.5365729180004349, 0.4201670368266409, 0.9906073556948704, 0.6502878401571168, -0.2879033166650653, -0.9613974918795568, -0.750987246771676, 0.14987720966295234, 0.9129452507276277, \n"
          ]
        }
      ]
    },
    {
      "cell_type": "markdown",
      "metadata": {
        "id": "o4_gzrYw2wXJ"
      },
      "source": [
        "## Defining functions \n",
        "\n",
        "Write a function that takes a number of seconds as an argument and returns the number of hours,\n",
        "minutes and seconds."
      ]
    },
    {
      "cell_type": "code",
      "metadata": {
        "id": "0eBKHR4a2wXJ",
        "colab": {
          "base_uri": "https://localhost:8080/"
        },
        "outputId": "2a2c7ba6-b947-48dd-f4d5-e23cee0c4498"
      },
      "source": [
        "def convert_time(s):\n",
        "    # Integer division yields the correct number of hours\n",
        "    hours = s // 3600\n",
        "    # To calculate the number of minutes, \n",
        "    # we must first take the remainder of the above division\n",
        "    s = s % 3600\n",
        "    minutes = s // 60\n",
        "    # Finally, seconds is the remainder of the last integer division\n",
        "    seconds = s % 60\n",
        "    return hours, minutes, seconds\n",
        "\n",
        "h,m,s = convert_time(600)\n",
        "print('Hours = ', h, ', Minutes = ', m, ', Seconds = ', s)"
      ],
      "execution_count": null,
      "outputs": [
        {
          "output_type": "stream",
          "name": "stdout",
          "text": [
            "Hours =  0 , Minutes =  10 , Seconds =  0\n"
          ]
        }
      ]
    },
    {
      "cell_type": "markdown",
      "metadata": {
        "id": "lloXMkdw2wXK"
      },
      "source": [
        "## 'Jumble a word'\n",
        "\n",
        "Write a function than randomly jumbles the letters in a word. For instance, a jumbled version of the word `Hello` is `loHle`. To this end, find a function in the `random` module that lets you sample the indices of the letters in random order (hint: look for the function using `help(random)`). Since `Hello` has 5 letters, its indices are `0, 1, 2, 3, 4`. \n"
      ]
    },
    {
      "cell_type": "code",
      "metadata": {
        "id": "da7ulLzb2wXK",
        "colab": {
          "base_uri": "https://localhost:8080/"
        },
        "outputId": "d625dfa4-4950-4a2c-8054-073ce0bc3af9"
      },
      "source": [
        "# Basic idea of the program: we can access the letters in a word \n",
        "# using indices. For instance if we define a variable word = 'hello',\n",
        "# we have a wordlen of 5 (5 letters) and the indices are 0, 1, 2, 3, 4. \n",
        "# E.g., word[0] equals 'h', and word[1] equals 'e'.\n",
        "# Now, we can randomly shuffle the INDICES to give us e.g. 1, 0, 3, 4, 2. \n",
        "# This will then give the word s[1]+s[0]+s[3]+s[4]+s[2] that is: 'ehlol'\n",
        "\n",
        "import random\n",
        "\n",
        "def jumble_a_word(word):\n",
        "    \"\"\"Jumbles the letters in a word\"\"\"\n",
        "    wordlen = len(word)  # length of the word\n",
        "    ix = random.sample(range(wordlen), wordlen) # here we randomly shuffle the indices\n",
        "    jumbled_word = \"\"\n",
        "    # Using a for loop, we use the jumbled indices to build our jumbled word\n",
        "    for i in ix:\n",
        "        jumbled_word += word[i]\n",
        "    return jumbled_word\n",
        "\n",
        "print(jumble_a_word(\"Cardiff\"))"
      ],
      "execution_count": null,
      "outputs": [
        {
          "output_type": "stream",
          "name": "stdout",
          "text": [
            "fadfrCi\n"
          ]
        }
      ]
    },
    {
      "cell_type": "markdown",
      "metadata": {
        "id": "rIJ-DZ3p2wXK"
      },
      "source": [
        "----\n",
        "\n",
        "# Advanced exercises (optional)\n",
        "\n",
        "## (A) chr and ord\n",
        "\n",
        "Use `help` to find out what the functions `chr` and `ord` do. Write some code that outputs all of the characters represented by numbers 0 up to 255. What does printing `chr(7)` do?\n"
      ]
    },
    {
      "cell_type": "code",
      "metadata": {
        "id": "acxvONJZ2wXL",
        "colab": {
          "base_uri": "https://localhost:8080/"
        },
        "outputId": "e55e7204-4d4f-4849-8fb0-5ec6050ea734"
      },
      "source": [
        "# chr(7) is equal to '\\a' which produces the bell sound\n",
        "\n",
        "for i in range(256):\n",
        "    print(chr(i), end=' ')\n"
      ],
      "execution_count": null,
      "outputs": [
        {
          "output_type": "stream",
          "name": "stdout",
          "text": [
            "\u0000 \u0001 \u0002 \u0003 \u0004 \u0005 \u0006 \u0007 \b \t \n",
            " \u000b \f \r \u000e \u000f \u0010 \u0011 \u0012 \u0013 \u0014 \u0015 \u0016 \u0017 \u0018 \u0019 \u001a \u001b \u001c \u001d \u001e \u001f   ! \" # $ % & ' ( ) * + , - . / 0 1 2 3 4 5 6 7 8 9 : ; < = > ? @ A B C D E F G H I J K L M N O P Q R S T U V W X Y Z [ \\ ] ^ _ ` a b c d e f g h i j k l m n o p q r s t u v w x y z { | } ~                                    ¡ ¢ £ ¤ ¥ ¦ § ¨ © ª « ¬ ­ ® ¯ ° ± ² ³ ´ µ ¶ · ¸ ¹ º » ¼ ½ ¾ ¿ À Á Â Ã Ä Å Æ Ç È É Ê Ë Ì Í Î Ï Ð Ñ Ò Ó Ô Õ Ö × Ø Ù Ú Û Ü Ý Þ ß à á â ã ä å æ ç è é ê ë ì í î ï ð ñ ò ó ô õ ö ÷ ø ù ú û ü ý þ ÿ "
          ]
        }
      ]
    },
    {
      "cell_type": "markdown",
      "metadata": {
        "id": "SNmyJ8sC2wXL"
      },
      "source": [
        "\n",
        "## (A) 'Jumble words in sentences'\n",
        "\n",
        "For this exercises you will need lists, which we have not formally introduced yet.\n",
        "Write a program `jumble_word_in_sentence.py` that asks the user to enter one or more sentences, then jumbles every word. \n",
        "\n",
        "- Word order in the sentence(s) is left the same.\n",
        "- If the word started with a capital letter, the jumbled word must also start with a capital letter (i.e., the first letter gets capitalised).\n",
        "- Punctuation marks . , ; ! and ? need to be preserved.\n",
        "\n",
        "For instance, for the sentence \"`Tom and I watched Star Wars in the cinema, it was fun!`\" a jumbled version would be \"`Mto nad I wachtde Tars Rswa ni het amecin, ti wsa fnu!`\".\n"
      ]
    },
    {
      "cell_type": "code",
      "metadata": {
        "id": "4UrpYYFY2wXL",
        "colab": {
          "base_uri": "https://localhost:8080/"
        },
        "outputId": "e3e763ea-0c4f-410f-fd9a-57781878a999"
      },
      "source": [
        "# Basic idea of the program: we can build on the jumble_a_word program. To this end,\n",
        "# we can split the sentence into a list of words using the split() method. However, the \n",
        "# problem remains that we are stuck with punctuation marks like , and ;, which we do not \n",
        "# want to jumble. To this end, the function find_punctuation identifies whether or not a word \n",
        "# has a punctuation mark - if so, the word and the punctuation mark are separated from each other.\n",
        "# Subsequently, we can apply the jumble_a_word function.\n",
        "# Finally, all we need to do is to put the jumbled words and the punctuation marks together again\n",
        "# to form a sentence.\n",
        "\n",
        "from random import sample\n",
        "\n",
        "# this is the function defined in the previous exercise\n",
        "def jumble_a_word(word):\n",
        "    wordlen = len(word)\n",
        "    ix = sample(range(wordlen), wordlen)\n",
        "    jumbled_word = \"\"\n",
        "    for i in ix:\n",
        "        jumbled_word += word[i]\n",
        "    return jumbled_word\n",
        "\n",
        "def find_punctuation(word):\n",
        "    \"\"\"Finds a punctuation marks , . ; ! ? at the end of a word\"\"\"\n",
        "    marks = \",.;!?\"\n",
        "    punc = ''\n",
        "    for m in marks:\n",
        "        if m in word:\n",
        "            word = word[:-1]\n",
        "            punc = m \n",
        "            break\n",
        "    return word, punc\n",
        "    \n",
        "def jumble_words_in_sentences(sentences):\n",
        "    \"\"\"Jumbles words in sentences. \"\"\"\n",
        "    word_list = sentences.split()\n",
        "    # Except for the word list, we need two additional lists:\n",
        "    # - a list of punctuation marks \n",
        "    # - a Boolean list that tells us whether the word is capitalised\n",
        "    punctuation_list = []\n",
        "    is_capitalised = []\n",
        "    # Split each word into the word proper and its punctuation mark (if any)\n",
        "    for i in range(len(word_list)):\n",
        "        w, p = find_punctuation(word_list[i])\n",
        "        # Update word list with punctuation removed\n",
        "        word_list[i] = w\n",
        "        # Keep punctuation symbol\n",
        "        punctuation_list.append(p) \n",
        "        # Check capitalisation\n",
        "        is_capitalised.append(word_list[i][0].isupper())\n",
        "    # print(word_list)    # comment in for debugging\n",
        "    # print(punctuation_list)\n",
        "    # print(is_capitalised)\n",
        "    # Jumble the words and add the punctuation marks and the whitspace back in\n",
        "    for i in range(len(word_list)):\n",
        "        word_list[i] = jumble_a_word(word_list[i])\n",
        "        word_list[i] += punctuation_list[i]\n",
        "        if i>0: \n",
        "            word_list[i] = ' ' + word_list[i]\n",
        "        if is_capitalised[i]:\n",
        "            word_list[i] = word_list[i].lower().title()\n",
        "    #print(\"\".join(word_list))\n",
        "    #print(word_list)\n",
        "    return \"\".join(word_list)\n",
        "\n",
        "sentences = \"Tom and Jerry, two funny animals! They appeared in a cartoon?\"\n",
        "jumbled = jumble_words_in_sentences(sentences)\n",
        "\n",
        "print(sentences)\n",
        "print(\"Jumbled version: \", jumbled)\n",
        "\n",
        "    "
      ],
      "execution_count": null,
      "outputs": [
        {
          "output_type": "stream",
          "name": "stdout",
          "text": [
            "Tom and Jerry, two funny animals! They appeared in a cartoon?\n",
            "Jumbled version:  Otm dan Erryj, tow uyfnn amslain! Yteh eerpdapa in a orancto?\n"
          ]
        }
      ]
    },
    {
      "cell_type": "markdown",
      "metadata": {
        "id": "Ufsrstcm2wXM"
      },
      "source": [
        "----\n",
        "\n",
        "# Homework"
      ]
    },
    {
      "cell_type": "markdown",
      "metadata": {
        "id": "bhovrE0E2wXM"
      },
      "source": [
        "## (H) String manipulation"
      ]
    },
    {
      "cell_type": "markdown",
      "metadata": {
        "id": "bwmpzjkm2wXN"
      },
      "source": [
        "a. What does the following code do?\n",
        "```python\n",
        "for char in \"1bc4\":\n",
        "    print(char)\n",
        "```\n",
        "b. What type does char have in the above loop? (*Hint*: use `type()`)\n",
        "\n",
        "c. Use the `dir()` and `help()` functions (with suitable arguments) to find a function that can be used to determine whether a string contains only alphabetic characters (i.e. only letters – no numbers or whitespace).\n",
        "\n",
        "d. Modify the loop above so that it prints out whether each character is a letter. I.e. it should produce the output:\n",
        "\n",
        "```python\n",
        "False\n",
        "True\n",
        "True\n",
        "False\n",
        "```\n",
        "\n",
        "e. Modify the loop above so that it considers each character in turn. If it is a letter, it should print it *converted to upper case*. If it is not a letter, it should print not a letter. I.e. it should produce the output:\n",
        "\n",
        "\n",
        "```python\n",
        "not a letter\n",
        "B\n",
        "C\n",
        "not a letter     \n",
        "```"
      ]
    },
    {
      "cell_type": "code",
      "metadata": {
        "id": "XGCYMZ5H2wXN",
        "colab": {
          "base_uri": "https://localhost:8080/"
        },
        "outputId": "e92c56c5-7f96-4acb-900b-6cb331c1ad72"
      },
      "source": [
        "for char in \"1bc4\":\n",
        "    print(char)\n",
        "    print(type(char))"
      ],
      "execution_count": null,
      "outputs": [
        {
          "output_type": "stream",
          "name": "stdout",
          "text": [
            "1\n",
            "<class 'str'>\n",
            "b\n",
            "<class 'str'>\n",
            "c\n",
            "<class 'str'>\n",
            "4\n",
            "<class 'str'>\n"
          ]
        }
      ]
    },
    {
      "cell_type": "markdown",
      "metadata": {
        "id": "LpdqftYY2wXN"
      },
      "source": [
        "## (H) Flip a coin\n",
        "\n",
        "Write a program `flipcoin.py` that flips a coin 10000 times and then tells you the number of\n",
        "heads and tails. The following output is a possible run of the program. Use a function in\n",
        "your code.\n",
        "\n",
        "```Heads: 5009```\n",
        "\n",
        "```Tails: 4991```"
      ]
    },
    {
      "cell_type": "code",
      "metadata": {
        "id": "CkYq-5Qj2wXO",
        "colab": {
          "base_uri": "https://localhost:8080/"
        },
        "outputId": "7a85eda1-2e6d-4148-91c1-928be3afb8cc"
      },
      "source": [
        "from random import randint\n",
        "\n",
        "def add_head_or_tail(heads, tails):\n",
        "    \"\"\" Randomly flips a coin and increases the count of heads or tails \"\"\"\n",
        "    if randint(0,1) == 0:\n",
        "        heads += 1\n",
        "    else:\n",
        "        tails += 1\n",
        "    return heads, tails\n",
        "\n",
        "nr_times = 10000\n",
        "heads, tails = 0, 0\n",
        "\n",
        "for i in range(nr_times):\n",
        "    heads, tails = add_head_or_tail(heads, tails)\n",
        "\n",
        "print('Heads: ', heads)\n",
        "print('Tails: ', tails)\n"
      ],
      "execution_count": null,
      "outputs": [
        {
          "output_type": "stream",
          "name": "stdout",
          "text": [
            "Heads:  5029\n",
            "Tails:  4971\n"
          ]
        }
      ]
    },
    {
      "cell_type": "markdown",
      "metadata": {
        "id": "xs7RluUC2wXO"
      },
      "source": [
        "## (H) Jack and Jill\n",
        "\n",
        "Write a program using at least one function. The program does the following\n",
        "\n",
        "- Ask the user to input 2 names\n",
        "- Replace `child_a` and `child_b` with the two names\n",
        "- Print out the rhyme (including the title) in a proper format\n",
        "- `rhyme=\"child_a and child_b went up the hill, / to fetch a pail of water./child_a fell down and broke his crown,/and child_b came tumbling after.\"`\n",
        "\n",
        "<img src=\"./jack_and_jill.png\" alt=\"drawing\" width=\"500\"/>\n",
        "\n"
      ]
    },
    {
      "cell_type": "code",
      "metadata": {
        "id": "A5guP_pi2wXO"
      },
      "source": [
        "#The following steps show you what the program does\n",
        "#    1. Ask the user to input 2 names\n",
        "#    2. Replace child_a and child_b with the two names\n",
        "#    3. Print out the rhyme (including the title) in a proper format.\n",
        "\n",
        "rhyme=\"child_a and child_b went up the hill,/to fetch a pail of water./child_a fell down and broke his crown,/and child_b came tumbling after.\"\n",
        "\n",
        "def get_name():\n",
        "    \"\"\"Get the first and second name\"\"\"\n",
        "    name1 = input(\"Please enter your first child's name:\")\n",
        "    name2 = input(\"Please enter your second child's name:\")\n",
        "    return name1, name2\n",
        "\n",
        "def change_names(name1, name2):\n",
        "    \"\"\"Replace child_a by first name, and child_b by second name\"\"\"\n",
        "    new_rhyme = rhyme.replace(\"child_a\", name1)\n",
        "    new_rhyme = new_rhyme.replace(\"child_b\", name2)\n",
        "    return name1 + \" and \" + name2 + \"/\" + new_rhyme\n",
        "\n",
        "def print_rhyme(newrhyme):\n",
        "    \"\"\"Prints the rhyme. The rhyme is split into lines along the '/' symbols\"\"\"\n",
        "    lines = newrhyme.split('/')\n",
        "    print(\"   {}   \".format(lines[0]))  #the title\n",
        "    for line in lines[1:]:\n",
        "        print(line.capitalize())\n",
        "\n",
        "#main\n",
        "name1, name2 = get_name()\n",
        "print_rhyme(change_names(name1, name2))"
      ],
      "execution_count": null,
      "outputs": []
    },
    {
      "cell_type": "code",
      "metadata": {
        "id": "_4PzxHF-2wXP"
      },
      "source": [
        ""
      ],
      "execution_count": null,
      "outputs": []
    }
  ]
}