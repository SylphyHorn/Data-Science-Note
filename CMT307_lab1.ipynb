{
  "nbformat": 4,
  "nbformat_minor": 0,
  "metadata": {
    "colab": {
      "name": "CMT307_lab1.ipynb",
      "provenance": [],
      "include_colab_link": true
    },
    "kernelspec": {
      "display_name": "Python 3.8.3 64-bit",
      "metadata": {
        "interpreter": {
          "hash": "1baa965d5efe3ac65b79dfc60c0d706280b1da80fedb7760faf2759126c4f253"
        }
      },
      "name": "python3"
    }
  },
  "cells": [
    {
      "cell_type": "markdown",
      "metadata": {
        "id": "view-in-github",
        "colab_type": "text"
      },
      "source": [
        "<a href=\"https://colab.research.google.com/github/SylphyHorn/Data-Science-Note/blob/main/CMT307_lab1.ipynb\" target=\"_parent\"><img src=\"https://colab.research.google.com/assets/colab-badge.svg\" alt=\"Open In Colab\"/></a>"
      ]
    },
    {
      "cell_type": "markdown",
      "metadata": {
        "id": "8CmjxlpGkItr"
      },
      "source": [
        "# Practical Session 1 \n",
        "This session consists of some first steps of a machine learning process:\n",
        "\n",
        "*   loading data\n",
        "*   data exploration\n",
        "*   data pre-processing including\n",
        "    * dealing with missing values\n",
        "    * encoding categorical features\n",
        "    * feature scaling\n",
        "\n",
        "Author: Yuhua Li\n",
        "\n",
        "Date:   November 2021 updated"
      ]
    },
    {
      "cell_type": "code",
      "metadata": {
        "id": "gJ-6oXKtkBok"
      },
      "source": [
        "import pandas as pd \n",
        "import numpy as np\n",
        "import matplotlib.pyplot as plt\n"
      ],
      "execution_count": 1,
      "outputs": []
    },
    {
      "cell_type": "markdown",
      "metadata": {
        "id": "YTsOIpKnb2cB"
      },
      "source": [
        "# Get data\n",
        "\n",
        "---\n",
        "\n"
      ]
    },
    {
      "cell_type": "code",
      "metadata": {
        "id": "ZlAAVesExbA0"
      },
      "source": [
        "# load Titanic data from URL\n",
        "titanic = pd.read_csv('http://bit.ly/kaggletrain')\n",
        "#titanic = pd.read_csv('https://raw.githubusercontent.com/justmarkham/pandas-videos/master/data/titanic_train.csv')\n"
      ],
      "execution_count": 3,
      "outputs": []
    },
    {
      "cell_type": "markdown",
      "metadata": {
        "id": "wE1cR08HckyQ"
      },
      "source": [
        "Have an initia inspection of the data"
      ]
    },
    {
      "cell_type": "code",
      "metadata": {
        "id": "73Eo49s0xgyX",
        "colab": {
          "base_uri": "https://localhost:8080/"
        },
        "outputId": "c88282c2-412e-4ae9-c419-f7625ce63b68"
      },
      "source": [
        "pd.set_option('display.max_columns', None, 'max_colwidth', None, 'display.expand_frame_repr', False) # print all columns in full, prevent line break\n",
        "\n",
        "print('\\nInformation of the titanic dataset...... \\n')\n",
        "print(titanic.info())\n",
        "print('\\nColumn names of the dataset...... \\n', titanic.columns)\n",
        "\n",
        "\n",
        "print('\\nBelow is the first few lines of the dataset......\\n', titanic.head(10))\n",
        "print('\\nBelow is the statistics of the dataset......\\n', titanic.describe())"
      ],
      "execution_count": 4,
      "outputs": [
        {
          "output_type": "stream",
          "name": "stdout",
          "text": [
            "\n",
            "Information of the titanic dataset...... \n",
            "\n",
            "<class 'pandas.core.frame.DataFrame'>\n",
            "RangeIndex: 891 entries, 0 to 890\n",
            "Data columns (total 12 columns):\n",
            " #   Column       Non-Null Count  Dtype  \n",
            "---  ------       --------------  -----  \n",
            " 0   PassengerId  891 non-null    int64  \n",
            " 1   Survived     891 non-null    int64  \n",
            " 2   Pclass       891 non-null    int64  \n",
            " 3   Name         891 non-null    object \n",
            " 4   Sex          891 non-null    object \n",
            " 5   Age          714 non-null    float64\n",
            " 6   SibSp        891 non-null    int64  \n",
            " 7   Parch        891 non-null    int64  \n",
            " 8   Ticket       891 non-null    object \n",
            " 9   Fare         891 non-null    float64\n",
            " 10  Cabin        204 non-null    object \n",
            " 11  Embarked     889 non-null    object \n",
            "dtypes: float64(2), int64(5), object(5)\n",
            "memory usage: 83.7+ KB\n",
            "None\n",
            "\n",
            "Column names of the dataset...... \n",
            " Index(['PassengerId', 'Survived', 'Pclass', 'Name', 'Sex', 'Age', 'SibSp',\n",
            "       'Parch', 'Ticket', 'Fare', 'Cabin', 'Embarked'],\n",
            "      dtype='object')\n",
            "\n",
            "Below is the first few lines of the dataset......\n",
            "    PassengerId  Survived  Pclass                                                 Name     Sex   Age  SibSp  Parch            Ticket     Fare Cabin Embarked\n",
            "0            1         0       3                              Braund, Mr. Owen Harris    male  22.0      1      0         A/5 21171   7.2500   NaN        S\n",
            "1            2         1       1  Cumings, Mrs. John Bradley (Florence Briggs Thayer)  female  38.0      1      0          PC 17599  71.2833   C85        C\n",
            "2            3         1       3                               Heikkinen, Miss. Laina  female  26.0      0      0  STON/O2. 3101282   7.9250   NaN        S\n",
            "3            4         1       1         Futrelle, Mrs. Jacques Heath (Lily May Peel)  female  35.0      1      0            113803  53.1000  C123        S\n",
            "4            5         0       3                             Allen, Mr. William Henry    male  35.0      0      0            373450   8.0500   NaN        S\n",
            "5            6         0       3                                     Moran, Mr. James    male   NaN      0      0            330877   8.4583   NaN        Q\n",
            "6            7         0       1                              McCarthy, Mr. Timothy J    male  54.0      0      0             17463  51.8625   E46        S\n",
            "7            8         0       3                       Palsson, Master. Gosta Leonard    male   2.0      3      1            349909  21.0750   NaN        S\n",
            "8            9         1       3    Johnson, Mrs. Oscar W (Elisabeth Vilhelmina Berg)  female  27.0      0      2            347742  11.1333   NaN        S\n",
            "9           10         1       2                  Nasser, Mrs. Nicholas (Adele Achem)  female  14.0      1      0            237736  30.0708   NaN        C\n",
            "\n",
            "Below is the statistics of the dataset......\n",
            "        PassengerId    Survived      Pclass         Age       SibSp       Parch        Fare\n",
            "count   891.000000  891.000000  891.000000  714.000000  891.000000  891.000000  891.000000\n",
            "mean    446.000000    0.383838    2.308642   29.699118    0.523008    0.381594   32.204208\n",
            "std     257.353842    0.486592    0.836071   14.526497    1.102743    0.806057   49.693429\n",
            "min       1.000000    0.000000    1.000000    0.420000    0.000000    0.000000    0.000000\n",
            "25%     223.500000    0.000000    2.000000   20.125000    0.000000    0.000000    7.910400\n",
            "50%     446.000000    0.000000    3.000000   28.000000    0.000000    0.000000   14.454200\n",
            "75%     668.500000    1.000000    3.000000   38.000000    1.000000    0.000000   31.000000\n",
            "max     891.000000    1.000000    3.000000   80.000000    8.000000    6.000000  512.329200\n"
          ]
        }
      ]
    },
    {
      "cell_type": "markdown",
      "metadata": {
        "id": "8LrB3DENzT3O"
      },
      "source": [
        "The dataset contains columns for passenger IDs, names and ticket numbers, which aren't useful for modelling. So we can remove 'PassengerId', 'Name', 'Ticket' columns from the original dataset. Note  generally we need to remove personally identifiable information from a dataset to avoid violation of the law of GDPR (Genrla Data Protection Regulation)."
      ]
    },
    {
      "cell_type": "code",
      "metadata": {
        "id": "tatxNI_R0eR3"
      },
      "source": [
        "try:\n",
        "  titanic.drop(['PassengerId', 'Name', 'Ticket'], axis=1, inplace = True)\n",
        "except KeyError:\n",
        "  print('Attributes already removed')\n",
        "\n",
        "print(titanic.head(10))"
      ],
      "execution_count": null,
      "outputs": []
    },
    {
      "cell_type": "markdown",
      "metadata": {
        "id": "o5kJgvoSfwz7"
      },
      "source": [
        "# Dealing with missing values"
      ]
    },
    {
      "cell_type": "markdown",
      "metadata": {
        "id": "2iUFXRg1gFtR"
      },
      "source": [
        "We first check if there are missing values in each feature, 0 for no missing value or the number for the number of missing values. You will see there missing values for Age, Cabin and Embarked"
      ]
    },
    {
      "cell_type": "code",
      "metadata": {
        "id": "BOcc_sjmtwbY",
        "colab": {
          "base_uri": "https://localhost:8080/"
        },
        "outputId": "9d2fd1bf-76d9-4ed9-a4c4-8049df7e6872"
      },
      "source": [
        "titanic.isna().sum()"
      ],
      "execution_count": 7,
      "outputs": [
        {
          "output_type": "execute_result",
          "data": {
            "text/plain": [
              "PassengerId      0\n",
              "Survived         0\n",
              "Pclass           0\n",
              "Name             0\n",
              "Sex              0\n",
              "Age            177\n",
              "SibSp            0\n",
              "Parch            0\n",
              "Ticket           0\n",
              "Fare             0\n",
              "Cabin          687\n",
              "Embarked         2\n",
              "dtype: int64"
            ]
          },
          "metadata": {},
          "execution_count": 7
        }
      ]
    },
    {
      "cell_type": "markdown",
      "metadata": {
        "id": "yQu6EUA0hc1R"
      },
      "source": [
        "As you can see from above, there are missing values in this Titanic dataset. \n",
        "\n",
        "Some packages of machine learning methods provide the ability of dealing with a dataset with missing values so they can take the data directly without us explicitly dealing with missing values. However, many others need us to process missing values before feeding the dataset for machine leanring modelling.\n",
        "\n",
        "You have a few options to deal with missing values:\n",
        "1. Get rid of the corresponding instances.\n",
        "2. Get rid of the whole attribute.\n",
        "3. Set the values to some value (zero, the mean, the median, etc.).\n",
        "4. Use imputation methods."
      ]
    },
    {
      "cell_type": "markdown",
      "metadata": {
        "id": "zjd9PhFdn9Zx"
      },
      "source": [
        "## 1. Get rid of the corresponding instances containing missing values. \n",
        "If the number of instances in a dataset is large and the fraction of intances with missing values is samll, an easy way is simply to remove those instances containing missing values.\n"
      ]
    },
    {
      "cell_type": "code",
      "metadata": {
        "id": "qYluqRpO4RZW",
        "colab": {
          "base_uri": "https://localhost:8080/"
        },
        "outputId": "77558274-91d4-4b59-bbef-f41ae80c99ea"
      },
      "source": [
        "print('Data size BEFORE deleteting instances with missing values: ', titanic.shape)\n",
        "\n",
        "titanic_ins = titanic.dropna(subset=['Age', 'Cabin', 'Embarked'])\n",
        "print('\\nData size AFTER deleteting instances containing missing values: ', titanic_ins.shape)\n",
        "titanic_ins.isna().sum()"
      ],
      "execution_count": 8,
      "outputs": [
        {
          "output_type": "stream",
          "name": "stdout",
          "text": [
            "Data size BEFORE deleteting instances with missing values:  (891, 12)\n",
            "\n",
            "Data size AFTER deleteting instances containing missing values:  (183, 12)\n"
          ]
        },
        {
          "output_type": "execute_result",
          "data": {
            "text/plain": [
              "PassengerId    0\n",
              "Survived       0\n",
              "Pclass         0\n",
              "Name           0\n",
              "Sex            0\n",
              "Age            0\n",
              "SibSp          0\n",
              "Parch          0\n",
              "Ticket         0\n",
              "Fare           0\n",
              "Cabin          0\n",
              "Embarked       0\n",
              "dtype: int64"
            ]
          },
          "metadata": {},
          "execution_count": 8
        }
      ]
    },
    {
      "cell_type": "markdown",
      "metadata": {
        "id": "-3kM-_V1LUPY"
      },
      "source": [
        ""
      ]
    },
    {
      "cell_type": "markdown",
      "metadata": {
        "id": "g713KJ878VCo"
      },
      "source": [
        "## 2. Get rid of the whole attribute.\n",
        "\n",
        "As seen above, the feature Cabin contains 687 missing values which is a significant portion of the total instances (891). If we remove those instances based on Cabin feature (and Age and Embarked), we only get 183 instances left from the original 891 instances, which means we lost majority portion of the original dataset. So we'd better drop the feature of *Cabin* entirely."
      ]
    },
    {
      "cell_type": "code",
      "metadata": {
        "id": "ZUsR0ZhzAh__",
        "colab": {
          "base_uri": "https://localhost:8080/"
        },
        "outputId": "760cd55b-c32b-4e10-ff15-04cf1799a164"
      },
      "source": [
        "titanic1 = titanic.drop(\"Cabin\", axis=1)\n",
        "print(titanic1.head())\n",
        "titanic1.isna().sum()"
      ],
      "execution_count": 9,
      "outputs": [
        {
          "output_type": "stream",
          "name": "stdout",
          "text": [
            "   PassengerId  Survived  Pclass                                                 Name     Sex   Age  SibSp  Parch            Ticket     Fare Embarked\n",
            "0            1         0       3                              Braund, Mr. Owen Harris    male  22.0      1      0         A/5 21171   7.2500        S\n",
            "1            2         1       1  Cumings, Mrs. John Bradley (Florence Briggs Thayer)  female  38.0      1      0          PC 17599  71.2833        C\n",
            "2            3         1       3                               Heikkinen, Miss. Laina  female  26.0      0      0  STON/O2. 3101282   7.9250        S\n",
            "3            4         1       1         Futrelle, Mrs. Jacques Heath (Lily May Peel)  female  35.0      1      0            113803  53.1000        S\n",
            "4            5         0       3                             Allen, Mr. William Henry    male  35.0      0      0            373450   8.0500        S\n"
          ]
        },
        {
          "output_type": "execute_result",
          "data": {
            "text/plain": [
              "PassengerId      0\n",
              "Survived         0\n",
              "Pclass           0\n",
              "Name             0\n",
              "Sex              0\n",
              "Age            177\n",
              "SibSp            0\n",
              "Parch            0\n",
              "Ticket           0\n",
              "Fare             0\n",
              "Embarked         2\n",
              "dtype: int64"
            ]
          },
          "metadata": {},
          "execution_count": 9
        }
      ]
    },
    {
      "cell_type": "markdown",
      "metadata": {
        "id": "AZndJjJpLWb1"
      },
      "source": [
        ""
      ]
    },
    {
      "cell_type": "markdown",
      "metadata": {
        "id": "taweZjZhEzbD"
      },
      "source": [
        "## 3. Set the missing values to some value\n",
        "After removing the entire feature of *Cabin*, the resulting dataset ***titanic1*** still contains missing values for *Age* and *Embarked*. We may fill the missing values by statistics, e.g., mean and median of a numeric feature or the most frequent value of a categorical feature, etc."
      ]
    },
    {
      "cell_type": "code",
      "metadata": {
        "id": "j3rYmdwtGvT2",
        "colab": {
          "base_uri": "https://localhost:8080/"
        },
        "outputId": "382878a3-8726-4a66-9b1d-98bf42c1c2a1"
      },
      "source": [
        "# Age is a numeric feature, we may replace missign values by the median of Age \n",
        "median = titanic1[\"Age\"].median() # option 3\n",
        "titanic1[\"Age\"].fillna(median, inplace=True)\n",
        "print('After filling missing values of Age\\n', titanic1.isna().sum())"
      ],
      "execution_count": 11,
      "outputs": [
        {
          "output_type": "stream",
          "name": "stdout",
          "text": [
            "After filling missing values of Age\n",
            " PassengerId    0\n",
            "Survived       0\n",
            "Pclass         0\n",
            "Name           0\n",
            "Sex            0\n",
            "Age            0\n",
            "SibSp          0\n",
            "Parch          0\n",
            "Ticket         0\n",
            "Fare           0\n",
            "Embarked       2\n",
            "dtype: int64\n"
          ]
        }
      ]
    },
    {
      "cell_type": "markdown",
      "metadata": {
        "id": "CVB8AQc5XHv2"
      },
      "source": [
        "## 4. Use imputation methods.\n",
        "sci-kit learn provide many imputation methods. Here we replace missing values of *Embarked* using its mode, i.e., its most frequent value.\n"
      ]
    },
    {
      "cell_type": "code",
      "metadata": {
        "id": "T2a5CfDTXzdd",
        "colab": {
          "base_uri": "https://localhost:8080/"
        },
        "outputId": "ef2484c7-d51b-42b6-f08f-81755d27ad45"
      },
      "source": [
        "from sklearn.impute import SimpleImputer\n",
        "\n",
        "imputer = SimpleImputer(strategy=\"most_frequent\")\n",
        "imputer.fit(titanic1)\n",
        "embarked = imputer.transform(titanic1)\n",
        "\n",
        "#print(embarked[:20, ])\n",
        "print(embarked.shape)\n",
        "print(pd.DataFrame(embarked).isna().sum())\n",
        "pd.DataFrame(embarked).info()"
      ],
      "execution_count": 10,
      "outputs": [
        {
          "output_type": "stream",
          "name": "stdout",
          "text": [
            "(891, 11)\n",
            "0     0\n",
            "1     0\n",
            "2     0\n",
            "3     0\n",
            "4     0\n",
            "5     0\n",
            "6     0\n",
            "7     0\n",
            "8     0\n",
            "9     0\n",
            "10    0\n",
            "dtype: int64\n",
            "<class 'pandas.core.frame.DataFrame'>\n",
            "RangeIndex: 891 entries, 0 to 890\n",
            "Data columns (total 11 columns):\n",
            " #   Column  Non-Null Count  Dtype \n",
            "---  ------  --------------  ----- \n",
            " 0   0       891 non-null    object\n",
            " 1   1       891 non-null    object\n",
            " 2   2       891 non-null    object\n",
            " 3   3       891 non-null    object\n",
            " 4   4       891 non-null    object\n",
            " 5   5       891 non-null    object\n",
            " 6   6       891 non-null    object\n",
            " 7   7       891 non-null    object\n",
            " 8   8       891 non-null    object\n",
            " 9   9       891 non-null    object\n",
            " 10  10      891 non-null    object\n",
            "dtypes: object(11)\n",
            "memory usage: 76.7+ KB\n"
          ]
        }
      ]
    },
    {
      "cell_type": "markdown",
      "metadata": {
        "id": "UQkdN_-8i_db"
      },
      "source": [
        "# Data Exploration"
      ]
    },
    {
      "cell_type": "markdown",
      "metadata": {
        "id": "AGaBY4GXjFKr"
      },
      "source": [
        "## Scatter plot\n",
        "\n",
        "Scatter plot shows data distribution of a pair of features, it can visuallly reveal the relationship between a feature pair."
      ]
    },
    {
      "cell_type": "code",
      "metadata": {
        "id": "uHSPYTLnYxYx",
        "colab": {
          "base_uri": "https://localhost:8080/",
          "height": 792
        },
        "outputId": "6ed142e7-5e2f-483b-cf53-a8daf2fa0484"
      },
      "source": [
        "# use scatter_matrix of pandas.plotting\n",
        "from pandas.plotting import scatter_matrix\n",
        "scatter_matrix(titanic1[['Age', 'SibSp', 'Parch', 'Fare']], figsize=(12, 8))"
      ],
      "execution_count": 12,
      "outputs": [
        {
          "output_type": "execute_result",
          "data": {
            "text/plain": [
              "array([[<matplotlib.axes._subplots.AxesSubplot object at 0x7f42656e61d0>,\n",
              "        <matplotlib.axes._subplots.AxesSubplot object at 0x7f4265636810>,\n",
              "        <matplotlib.axes._subplots.AxesSubplot object at 0x7f426566ee10>,\n",
              "        <matplotlib.axes._subplots.AxesSubplot object at 0x7f4265632450>],\n",
              "       [<matplotlib.axes._subplots.AxesSubplot object at 0x7f42655e6a50>,\n",
              "        <matplotlib.axes._subplots.AxesSubplot object at 0x7f4265593b90>,\n",
              "        <matplotlib.axes._subplots.AxesSubplot object at 0x7f426555f710>,\n",
              "        <matplotlib.axes._subplots.AxesSubplot object at 0x7f4265515c50>],\n",
              "       [<matplotlib.axes._subplots.AxesSubplot object at 0x7f4265515c90>,\n",
              "        <matplotlib.axes._subplots.AxesSubplot object at 0x7f42654d63d0>,\n",
              "        <matplotlib.axes._subplots.AxesSubplot object at 0x7f4265443ed0>,\n",
              "        <matplotlib.axes._subplots.AxesSubplot object at 0x7f4265403510>],\n",
              "       [<matplotlib.axes._subplots.AxesSubplot object at 0x7f42653bbb10>,\n",
              "        <matplotlib.axes._subplots.AxesSubplot object at 0x7f426537d150>,\n",
              "        <matplotlib.axes._subplots.AxesSubplot object at 0x7f4265333750>,\n",
              "        <matplotlib.axes._subplots.AxesSubplot object at 0x7f4265367d50>]],\n",
              "      dtype=object)"
            ]
          },
          "metadata": {},
          "execution_count": 12
        },
        {
          "output_type": "display_data",
          "data": {
            "image/png": "[encoded data removed]",
            "text/plain": [
              "<Figure size 864x576 with 16 Axes>"
            ]
          },
          "metadata": {
            "needs_background": "light"
          }
        }
      ]
    },
    {
      "cell_type": "code",
      "metadata": {
        "id": "61YdvhXskF9U",
        "colab": {
          "base_uri": "https://localhost:8080/",
          "height": 296
        },
        "outputId": "082fb491-fa37-4c1e-8942-f89340b1b4be"
      },
      "source": [
        "# use plot of pandas DataFrame\n",
        "titanic1.plot(kind='scatter', x='Age', y='Fare')"
      ],
      "execution_count": 13,
      "outputs": [
        {
          "output_type": "execute_result",
          "data": {
            "text/plain": [
              "<matplotlib.axes._subplots.AxesSubplot at 0x7f42657226d0>"
            ]
          },
          "metadata": {},
          "execution_count": 13
        },
        {
          "output_type": "display_data",
          "data": {
            "image/png": "[encoded data removed]",
            "text/plain": [
              "<Figure size 432x288 with 1 Axes>"
            ]
          },
          "metadata": {
            "needs_background": "light"
          }
        }
      ]
    },
    {
      "cell_type": "markdown",
      "metadata": {
        "id": "6_JUUgqF-X-g"
      },
      "source": [
        "## Box plot"
      ]
    },
    {
      "cell_type": "code",
      "metadata": {
        "id": "w6193lUo-cB9",
        "colab": {
          "base_uri": "https://localhost:8080/",
          "height": 435
        },
        "outputId": "7d5481db-9b25-4475-a045-26bf7bd05568"
      },
      "source": [
        "print(titanic1[['Age', 'Fare']].describe())\n",
        "titanic1[['Age', 'Fare']].boxplot()"
      ],
      "execution_count": 14,
      "outputs": [
        {
          "output_type": "stream",
          "name": "stdout",
          "text": [
            "              Age        Fare\n",
            "count  891.000000  891.000000\n",
            "mean    29.361582   32.204208\n",
            "std     13.019697   49.693429\n",
            "min      0.420000    0.000000\n",
            "25%     22.000000    7.910400\n",
            "50%     28.000000   14.454200\n",
            "75%     35.000000   31.000000\n",
            "max     80.000000  512.329200\n"
          ]
        },
        {
          "output_type": "execute_result",
          "data": {
            "text/plain": [
              "<matplotlib.axes._subplots.AxesSubplot at 0x7f426341f810>"
            ]
          },
          "metadata": {},
          "execution_count": 14
        },
        {
          "output_type": "display_data",
          "data": {
            "image/png": "[encoded data removed]",
            "text/plain": [
              "<Figure size 432x288 with 1 Axes>"
            ]
          },
          "metadata": {
            "needs_background": "light"
          }
        }
      ]
    },
    {
      "cell_type": "markdown",
      "metadata": {
        "id": "2fDUyBxFlh1p"
      },
      "source": [
        "## Correlation\n",
        "Correlation coefficient measures linear relationship between a pair of variables, range [-1, 1]. 1 indicates full linear relationship, 0 no linear relationship, -1 negatively linear relationship."
      ]
    },
    {
      "cell_type": "code",
      "metadata": {
        "id": "jHBrlYX7lok1",
        "colab": {
          "base_uri": "https://localhost:8080/"
        },
        "outputId": "886602af-8dee-47e2-9e17-edd89b889eee"
      },
      "source": [
        "corr_matrix = titanic1.corr()\n",
        "print(corr_matrix)"
      ],
      "execution_count": 15,
      "outputs": [
        {
          "output_type": "stream",
          "name": "stdout",
          "text": [
            "             PassengerId  Survived    Pclass       Age     SibSp     Parch      Fare\n",
            "PassengerId     1.000000 -0.005007 -0.035144  0.034212 -0.057527 -0.001652  0.012658\n",
            "Survived       -0.005007  1.000000 -0.338481 -0.064910 -0.035322  0.081629  0.257307\n",
            "Pclass         -0.035144 -0.338481  1.000000 -0.339898  0.083081  0.018443 -0.549500\n",
            "Age             0.034212 -0.064910 -0.339898  1.000000 -0.233296 -0.172482  0.096688\n",
            "SibSp          -0.057527 -0.035322  0.083081 -0.233296  1.000000  0.414838  0.159651\n",
            "Parch          -0.001652  0.081629  0.018443 -0.172482  0.414838  1.000000  0.216225\n",
            "Fare            0.012658  0.257307 -0.549500  0.096688  0.159651  0.216225  1.000000\n"
          ]
        }
      ]
    },
    {
      "cell_type": "markdown",
      "metadata": {
        "id": "phhIiHvmmAlJ"
      },
      "source": [
        "## Histogram"
      ]
    },
    {
      "cell_type": "code",
      "metadata": {
        "id": "30YAnXC5mE-4",
        "colab": {
          "base_uri": "https://localhost:8080/",
          "height": 282
        },
        "outputId": "45de4a3c-b9cd-4a51-979b-408f78049185"
      },
      "source": [
        "titanic1['Age'].hist()"
      ],
      "execution_count": 16,
      "outputs": [
        {
          "output_type": "execute_result",
          "data": {
            "text/plain": [
              "<matplotlib.axes._subplots.AxesSubplot at 0x7f42633291d0>"
            ]
          },
          "metadata": {},
          "execution_count": 16
        },
        {
          "output_type": "display_data",
          "data": {
            "image/png": "[encoded data removed]",
            "text/plain": [
              "<Figure size 432x288 with 1 Axes>"
            ]
          },
          "metadata": {
            "needs_background": "light"
          }
        }
      ]
    },
    {
      "cell_type": "markdown",
      "metadata": {
        "id": "Nqu0cCEBr4MX"
      },
      "source": [
        "# Feature scaling\n",
        "Feature scaling is a neccessary steps for most machine learning methods in order to achieve good learning performance and faster learning process.\n",
        "\n",
        "There are two commonly used feature scaling methods: \n",
        "1. Scaling features to a range: e.g., min-max scaling\n",
        "2. Standardization: zero mean and unit variance"
      ]
    },
    {
      "cell_type": "markdown",
      "metadata": {
        "id": "ARP3fjyYyjGh"
      },
      "source": [
        "## 1. Scaling features to a range"
      ]
    },
    {
      "cell_type": "code",
      "metadata": {
        "id": "TJJtkd1qAf-5",
        "colab": {
          "base_uri": "https://localhost:8080/",
          "height": 657
        },
        "outputId": "31718ef1-e9aa-4c36-d0df-c3b9929b1dbb"
      },
      "source": [
        "from sklearn.preprocessing import MinMaxScaler\n",
        "\n",
        "minMax_scale = MinMaxScaler()   # to default range [0, 1]\n",
        "titanic1['Age'] = minMax_scale.fit_transform(titanic1[['Age']])\n",
        "\n",
        "titanic1"
      ],
      "execution_count": 17,
      "outputs": [
        {
          "output_type": "execute_result",
          "data": {
            "text/html": [
              "<div>\n",
              "<style scoped>\n",
              "    .dataframe tbody tr th:only-of-type {\n",
              "        vertical-align: middle;\n",
              "    }\n",
              "\n",
              "    .dataframe tbody tr th {\n",
              "        vertical-align: top;\n",
              "    }\n",
              "\n",
              "    .dataframe thead th {\n",
              "        text-align: right;\n",
              "    }\n",
              "</style>\n",
              "<table border=\"1\" class=\"dataframe\">\n",
              "  <thead>\n",
              "    <tr style=\"text-align: right;\">\n",
              "      <th></th>\n",
              "      <th>PassengerId</th>\n",
              "      <th>Survived</th>\n",
              "      <th>Pclass</th>\n",
              "      <th>Name</th>\n",
              "      <th>Sex</th>\n",
              "      <th>Age</th>\n",
              "      <th>SibSp</th>\n",
              "      <th>Parch</th>\n",
              "      <th>Ticket</th>\n",
              "      <th>Fare</th>\n",
              "      <th>Embarked</th>\n",
              "    </tr>\n",
              "  </thead>\n",
              "  <tbody>\n",
              "    <tr>\n",
              "      <th>0</th>\n",
              "      <td>1</td>\n",
              "      <td>0</td>\n",
              "      <td>3</td>\n",
              "      <td>Braund, Mr. Owen Harris</td>\n",
              "      <td>male</td>\n",
              "      <td>0.271174</td>\n",
              "      <td>1</td>\n",
              "      <td>0</td>\n",
              "      <td>A/5 21171</td>\n",
              "      <td>7.2500</td>\n",
              "      <td>S</td>\n",
              "    </tr>\n",
              "    <tr>\n",
              "      <th>1</th>\n",
              "      <td>2</td>\n",
              "      <td>1</td>\n",
              "      <td>1</td>\n",
              "      <td>Cumings, Mrs. John Bradley (Florence Briggs Thayer)</td>\n",
              "      <td>female</td>\n",
              "      <td>0.472229</td>\n",
              "      <td>1</td>\n",
              "      <td>0</td>\n",
              "      <td>PC 17599</td>\n",
              "      <td>71.2833</td>\n",
              "      <td>C</td>\n",
              "    </tr>\n",
              "    <tr>\n",
              "      <th>2</th>\n",
              "      <td>3</td>\n",
              "      <td>1</td>\n",
              "      <td>3</td>\n",
              "      <td>Heikkinen, Miss. Laina</td>\n",
              "      <td>female</td>\n",
              "      <td>0.321438</td>\n",
              "      <td>0</td>\n",
              "      <td>0</td>\n",
              "      <td>STON/O2. 3101282</td>\n",
              "      <td>7.9250</td>\n",
              "      <td>S</td>\n",
              "    </tr>\n",
              "    <tr>\n",
              "      <th>3</th>\n",
              "      <td>4</td>\n",
              "      <td>1</td>\n",
              "      <td>1</td>\n",
              "      <td>Futrelle, Mrs. Jacques Heath (Lily May Peel)</td>\n",
              "      <td>female</td>\n",
              "      <td>0.434531</td>\n",
              "      <td>1</td>\n",
              "      <td>0</td>\n",
              "      <td>113803</td>\n",
              "      <td>53.1000</td>\n",
              "      <td>S</td>\n",
              "    </tr>\n",
              "    <tr>\n",
              "      <th>4</th>\n",
              "      <td>5</td>\n",
              "      <td>0</td>\n",
              "      <td>3</td>\n",
              "      <td>Allen, Mr. William Henry</td>\n",
              "      <td>male</td>\n",
              "      <td>0.434531</td>\n",
              "      <td>0</td>\n",
              "      <td>0</td>\n",
              "      <td>373450</td>\n",
              "      <td>8.0500</td>\n",
              "      <td>S</td>\n",
              "    </tr>\n",
              "    <tr>\n",
              "      <th>...</th>\n",
              "      <td>...</td>\n",
              "      <td>...</td>\n",
              "      <td>...</td>\n",
              "      <td>...</td>\n",
              "      <td>...</td>\n",
              "      <td>...</td>\n",
              "      <td>...</td>\n",
              "      <td>...</td>\n",
              "      <td>...</td>\n",
              "      <td>...</td>\n",
              "      <td>...</td>\n",
              "    </tr>\n",
              "    <tr>\n",
              "      <th>886</th>\n",
              "      <td>887</td>\n",
              "      <td>0</td>\n",
              "      <td>2</td>\n",
              "      <td>Montvila, Rev. Juozas</td>\n",
              "      <td>male</td>\n",
              "      <td>0.334004</td>\n",
              "      <td>0</td>\n",
              "      <td>0</td>\n",
              "      <td>211536</td>\n",
              "      <td>13.0000</td>\n",
              "      <td>S</td>\n",
              "    </tr>\n",
              "    <tr>\n",
              "      <th>887</th>\n",
              "      <td>888</td>\n",
              "      <td>1</td>\n",
              "      <td>1</td>\n",
              "      <td>Graham, Miss. Margaret Edith</td>\n",
              "      <td>female</td>\n",
              "      <td>0.233476</td>\n",
              "      <td>0</td>\n",
              "      <td>0</td>\n",
              "      <td>112053</td>\n",
              "      <td>30.0000</td>\n",
              "      <td>S</td>\n",
              "    </tr>\n",
              "    <tr>\n",
              "      <th>888</th>\n",
              "      <td>889</td>\n",
              "      <td>0</td>\n",
              "      <td>3</td>\n",
              "      <td>Johnston, Miss. Catherine Helen \"Carrie\"</td>\n",
              "      <td>female</td>\n",
              "      <td>0.346569</td>\n",
              "      <td>1</td>\n",
              "      <td>2</td>\n",
              "      <td>W./C. 6607</td>\n",
              "      <td>23.4500</td>\n",
              "      <td>S</td>\n",
              "    </tr>\n",
              "    <tr>\n",
              "      <th>889</th>\n",
              "      <td>890</td>\n",
              "      <td>1</td>\n",
              "      <td>1</td>\n",
              "      <td>Behr, Mr. Karl Howell</td>\n",
              "      <td>male</td>\n",
              "      <td>0.321438</td>\n",
              "      <td>0</td>\n",
              "      <td>0</td>\n",
              "      <td>111369</td>\n",
              "      <td>30.0000</td>\n",
              "      <td>C</td>\n",
              "    </tr>\n",
              "    <tr>\n",
              "      <th>890</th>\n",
              "      <td>891</td>\n",
              "      <td>0</td>\n",
              "      <td>3</td>\n",
              "      <td>Dooley, Mr. Patrick</td>\n",
              "      <td>male</td>\n",
              "      <td>0.396833</td>\n",
              "      <td>0</td>\n",
              "      <td>0</td>\n",
              "      <td>370376</td>\n",
              "      <td>7.7500</td>\n",
              "      <td>Q</td>\n",
              "    </tr>\n",
              "  </tbody>\n",
              "</table>\n",
              "<p>891 rows × 11 columns</p>\n",
              "</div>"
            ],
            "text/plain": [
              "     PassengerId  Survived  Pclass                                                 Name     Sex       Age  SibSp  Parch            Ticket     Fare Embarked\n",
              "0              1         0       3                              Braund, Mr. Owen Harris    male  0.271174      1      0         A/5 21171   7.2500        S\n",
              "1              2         1       1  Cumings, Mrs. John Bradley (Florence Briggs Thayer)  female  0.472229      1      0          PC 17599  71.2833        C\n",
              "2              3         1       3                               Heikkinen, Miss. Laina  female  0.321438      0      0  STON/O2. 3101282   7.9250        S\n",
              "3              4         1       1         Futrelle, Mrs. Jacques Heath (Lily May Peel)  female  0.434531      1      0            113803  53.1000        S\n",
              "4              5         0       3                             Allen, Mr. William Henry    male  0.434531      0      0            373450   8.0500        S\n",
              "..           ...       ...     ...                                                  ...     ...       ...    ...    ...               ...      ...      ...\n",
              "886          887         0       2                                Montvila, Rev. Juozas    male  0.334004      0      0            211536  13.0000        S\n",
              "887          888         1       1                         Graham, Miss. Margaret Edith  female  0.233476      0      0            112053  30.0000        S\n",
              "888          889         0       3             Johnston, Miss. Catherine Helen \"Carrie\"  female  0.346569      1      2        W./C. 6607  23.4500        S\n",
              "889          890         1       1                                Behr, Mr. Karl Howell    male  0.321438      0      0            111369  30.0000        C\n",
              "890          891         0       3                                  Dooley, Mr. Patrick    male  0.396833      0      0            370376   7.7500        Q\n",
              "\n",
              "[891 rows x 11 columns]"
            ]
          },
          "metadata": {},
          "execution_count": 17
        }
      ]
    },
    {
      "cell_type": "markdown",
      "metadata": {
        "id": "jCK6BDMpD9k1"
      },
      "source": [
        "## Standardization (z-score)\n",
        "Standardization scales a featue to a feature with 0 mean and 1 standard deviation."
      ]
    },
    {
      "cell_type": "code",
      "metadata": {
        "id": "q3ptzvvEDTZq",
        "colab": {
          "base_uri": "https://localhost:8080/",
          "height": 657
        },
        "outputId": "02d5646c-b962-4c6a-efc9-9fc5e961b8f6"
      },
      "source": [
        "from sklearn.preprocessing import StandardScaler\n",
        "\n",
        "standard_scale = StandardScaler()   # to default 0 mean and 1 standard deviation\n",
        "titanic1['Fare'] = standard_scale.fit_transform(titanic1[['Fare']])\n",
        "\n",
        "titanic1"
      ],
      "execution_count": 18,
      "outputs": [
        {
          "output_type": "execute_result",
          "data": {
            "text/html": [
              "<div>\n",
              "<style scoped>\n",
              "    .dataframe tbody tr th:only-of-type {\n",
              "        vertical-align: middle;\n",
              "    }\n",
              "\n",
              "    .dataframe tbody tr th {\n",
              "        vertical-align: top;\n",
              "    }\n",
              "\n",
              "    .dataframe thead th {\n",
              "        text-align: right;\n",
              "    }\n",
              "</style>\n",
              "<table border=\"1\" class=\"dataframe\">\n",
              "  <thead>\n",
              "    <tr style=\"text-align: right;\">\n",
              "      <th></th>\n",
              "      <th>PassengerId</th>\n",
              "      <th>Survived</th>\n",
              "      <th>Pclass</th>\n",
              "      <th>Name</th>\n",
              "      <th>Sex</th>\n",
              "      <th>Age</th>\n",
              "      <th>SibSp</th>\n",
              "      <th>Parch</th>\n",
              "      <th>Ticket</th>\n",
              "      <th>Fare</th>\n",
              "      <th>Embarked</th>\n",
              "    </tr>\n",
              "  </thead>\n",
              "  <tbody>\n",
              "    <tr>\n",
              "      <th>0</th>\n",
              "      <td>1</td>\n",
              "      <td>0</td>\n",
              "      <td>3</td>\n",
              "      <td>Braund, Mr. Owen Harris</td>\n",
              "      <td>male</td>\n",
              "      <td>0.271174</td>\n",
              "      <td>1</td>\n",
              "      <td>0</td>\n",
              "      <td>A/5 21171</td>\n",
              "      <td>-0.502445</td>\n",
              "      <td>S</td>\n",
              "    </tr>\n",
              "    <tr>\n",
              "      <th>1</th>\n",
              "      <td>2</td>\n",
              "      <td>1</td>\n",
              "      <td>1</td>\n",
              "      <td>Cumings, Mrs. John Bradley (Florence Briggs Thayer)</td>\n",
              "      <td>female</td>\n",
              "      <td>0.472229</td>\n",
              "      <td>1</td>\n",
              "      <td>0</td>\n",
              "      <td>PC 17599</td>\n",
              "      <td>0.786845</td>\n",
              "      <td>C</td>\n",
              "    </tr>\n",
              "    <tr>\n",
              "      <th>2</th>\n",
              "      <td>3</td>\n",
              "      <td>1</td>\n",
              "      <td>3</td>\n",
              "      <td>Heikkinen, Miss. Laina</td>\n",
              "      <td>female</td>\n",
              "      <td>0.321438</td>\n",
              "      <td>0</td>\n",
              "      <td>0</td>\n",
              "      <td>STON/O2. 3101282</td>\n",
              "      <td>-0.488854</td>\n",
              "      <td>S</td>\n",
              "    </tr>\n",
              "    <tr>\n",
              "      <th>3</th>\n",
              "      <td>4</td>\n",
              "      <td>1</td>\n",
              "      <td>1</td>\n",
              "      <td>Futrelle, Mrs. Jacques Heath (Lily May Peel)</td>\n",
              "      <td>female</td>\n",
              "      <td>0.434531</td>\n",
              "      <td>1</td>\n",
              "      <td>0</td>\n",
              "      <td>113803</td>\n",
              "      <td>0.420730</td>\n",
              "      <td>S</td>\n",
              "    </tr>\n",
              "    <tr>\n",
              "      <th>4</th>\n",
              "      <td>5</td>\n",
              "      <td>0</td>\n",
              "      <td>3</td>\n",
              "      <td>Allen, Mr. William Henry</td>\n",
              "      <td>male</td>\n",
              "      <td>0.434531</td>\n",
              "      <td>0</td>\n",
              "      <td>0</td>\n",
              "      <td>373450</td>\n",
              "      <td>-0.486337</td>\n",
              "      <td>S</td>\n",
              "    </tr>\n",
              "    <tr>\n",
              "      <th>...</th>\n",
              "      <td>...</td>\n",
              "      <td>...</td>\n",
              "      <td>...</td>\n",
              "      <td>...</td>\n",
              "      <td>...</td>\n",
              "      <td>...</td>\n",
              "      <td>...</td>\n",
              "      <td>...</td>\n",
              "      <td>...</td>\n",
              "      <td>...</td>\n",
              "      <td>...</td>\n",
              "    </tr>\n",
              "    <tr>\n",
              "      <th>886</th>\n",
              "      <td>887</td>\n",
              "      <td>0</td>\n",
              "      <td>2</td>\n",
              "      <td>Montvila, Rev. Juozas</td>\n",
              "      <td>male</td>\n",
              "      <td>0.334004</td>\n",
              "      <td>0</td>\n",
              "      <td>0</td>\n",
              "      <td>211536</td>\n",
              "      <td>-0.386671</td>\n",
              "      <td>S</td>\n",
              "    </tr>\n",
              "    <tr>\n",
              "      <th>887</th>\n",
              "      <td>888</td>\n",
              "      <td>1</td>\n",
              "      <td>1</td>\n",
              "      <td>Graham, Miss. Margaret Edith</td>\n",
              "      <td>female</td>\n",
              "      <td>0.233476</td>\n",
              "      <td>0</td>\n",
              "      <td>0</td>\n",
              "      <td>112053</td>\n",
              "      <td>-0.044381</td>\n",
              "      <td>S</td>\n",
              "    </tr>\n",
              "    <tr>\n",
              "      <th>888</th>\n",
              "      <td>889</td>\n",
              "      <td>0</td>\n",
              "      <td>3</td>\n",
              "      <td>Johnston, Miss. Catherine Helen \"Carrie\"</td>\n",
              "      <td>female</td>\n",
              "      <td>0.346569</td>\n",
              "      <td>1</td>\n",
              "      <td>2</td>\n",
              "      <td>W./C. 6607</td>\n",
              "      <td>-0.176263</td>\n",
              "      <td>S</td>\n",
              "    </tr>\n",
              "    <tr>\n",
              "      <th>889</th>\n",
              "      <td>890</td>\n",
              "      <td>1</td>\n",
              "      <td>1</td>\n",
              "      <td>Behr, Mr. Karl Howell</td>\n",
              "      <td>male</td>\n",
              "      <td>0.321438</td>\n",
              "      <td>0</td>\n",
              "      <td>0</td>\n",
              "      <td>111369</td>\n",
              "      <td>-0.044381</td>\n",
              "      <td>C</td>\n",
              "    </tr>\n",
              "    <tr>\n",
              "      <th>890</th>\n",
              "      <td>891</td>\n",
              "      <td>0</td>\n",
              "      <td>3</td>\n",
              "      <td>Dooley, Mr. Patrick</td>\n",
              "      <td>male</td>\n",
              "      <td>0.396833</td>\n",
              "      <td>0</td>\n",
              "      <td>0</td>\n",
              "      <td>370376</td>\n",
              "      <td>-0.492378</td>\n",
              "      <td>Q</td>\n",
              "    </tr>\n",
              "  </tbody>\n",
              "</table>\n",
              "<p>891 rows × 11 columns</p>\n",
              "</div>"
            ],
            "text/plain": [
              "     PassengerId  Survived  Pclass                                                 Name     Sex       Age  SibSp  Parch            Ticket      Fare Embarked\n",
              "0              1         0       3                              Braund, Mr. Owen Harris    male  0.271174      1      0         A/5 21171 -0.502445        S\n",
              "1              2         1       1  Cumings, Mrs. John Bradley (Florence Briggs Thayer)  female  0.472229      1      0          PC 17599  0.786845        C\n",
              "2              3         1       3                               Heikkinen, Miss. Laina  female  0.321438      0      0  STON/O2. 3101282 -0.488854        S\n",
              "3              4         1       1         Futrelle, Mrs. Jacques Heath (Lily May Peel)  female  0.434531      1      0            113803  0.420730        S\n",
              "4              5         0       3                             Allen, Mr. William Henry    male  0.434531      0      0            373450 -0.486337        S\n",
              "..           ...       ...     ...                                                  ...     ...       ...    ...    ...               ...       ...      ...\n",
              "886          887         0       2                                Montvila, Rev. Juozas    male  0.334004      0      0            211536 -0.386671        S\n",
              "887          888         1       1                         Graham, Miss. Margaret Edith  female  0.233476      0      0            112053 -0.044381        S\n",
              "888          889         0       3             Johnston, Miss. Catherine Helen \"Carrie\"  female  0.346569      1      2        W./C. 6607 -0.176263        S\n",
              "889          890         1       1                                Behr, Mr. Karl Howell    male  0.321438      0      0            111369 -0.044381        C\n",
              "890          891         0       3                                  Dooley, Mr. Patrick    male  0.396833      0      0            370376 -0.492378        Q\n",
              "\n",
              "[891 rows x 11 columns]"
            ]
          },
          "metadata": {},
          "execution_count": 18
        }
      ]
    },
    {
      "cell_type": "markdown",
      "metadata": {
        "id": "cO9pSJCU8HzF"
      },
      "source": [
        "# Encoding categorical features\n",
        "\n",
        "Most machine learning methods take only numerical data, except decision tree based methods which can take numerical and categorical features directly. So we need to convert categories to numbers."
      ]
    },
    {
      "cell_type": "markdown",
      "metadata": {
        "id": "zgqdRLL48VuK"
      },
      "source": [
        "## One hot encoder"
      ]
    },
    {
      "cell_type": "code",
      "metadata": {
        "id": "LSwKtvOr8avC"
      },
      "source": [
        "from sklearn.preprocessing import OneHotEncoder\n",
        "\n",
        "titanic1 = titanic[['Pclass', 'Sex', 'Embarked']].dropna()\n",
        "print(titanic1.info())\n",
        "print('\\n', titanic1.head())\n",
        "\n",
        "enc = OneHotEncoder(sparse=False, handle_unknown='ignore')\n",
        "enc.fit(titanic1)\n",
        "\n",
        "print('\\n', enc.categories_)\n",
        "titanic2 = pd.DataFrame(enc.transform(titanic1))\n",
        "titanic2.head()"
      ],
      "execution_count": null,
      "outputs": []
    },
    {
      "cell_type": "markdown",
      "metadata": {
        "id": "RRCO8oBbDslK"
      },
      "source": [
        "## Effect encoding\n",
        "A feature with N categories will produce N binary features after one hot encoding as above. One of the N binary features is perfectly collinear with the other N-1 features. This means there are only N-1 non-collinear binary features for a N-category feature. So we can drop one of the derived binary features as follows."
      ]
    },
    {
      "cell_type": "code",
      "metadata": {
        "id": "6vkSzbuIDhPq"
      },
      "source": [
        "enc = OneHotEncoder(drop='first', sparse=False)\n",
        "titanic1 = titanic[['Pclass', 'Sex', 'Embarked']].dropna()\n",
        "print(titanic1.head())\n",
        "enc.fit(titanic1)\n",
        "titanic2 = pd.DataFrame(enc.transform(titanic1))\n",
        "print(titanic2.shape)\n",
        "\n",
        "titanic2 = pd.concat([titanic2, titanic[['Age', 'SibSp',  'Parch', 'Fare']]], axis=1)\n",
        "titanic2.head()"
      ],
      "execution_count": null,
      "outputs": []
    },
    {
      "cell_type": "markdown",
      "metadata": {
        "id": "V8lzZlWUfYhq"
      },
      "source": [
        "## Use Transformer\n",
        "Or use make_column_transformer to encode the named categorical features and keep other features unchanged"
      ]
    },
    {
      "cell_type": "code",
      "metadata": {
        "id": "AsSL3IEugLKx"
      },
      "source": [
        "from sklearn.impute import SimpleImputer\n",
        "imputer = SimpleImputer(strategy=\"most_frequent\")\n",
        "imputer.fit(pd.DataFrame(titanic1[\"Embarked\"]))\n",
        "from sklearn.preprocessing import StandardScaler, OneHotEncoder\n",
        "from sklearn.compose import make_column_transformer\n",
        "\n",
        "titanic3 = titanic[['Pclass', 'Sex', 'Age', 'SibSp', 'Parch', 'Fare', 'Embarked']]\n",
        "print('Before filling missing values of Age\\n', titanic3.isna().sum())\n",
        "print(titanic3.shape)\n",
        "print(titanic3)"
      ],
      "execution_count": null,
      "outputs": []
    },
    {
      "cell_type": "code",
      "metadata": {
        "id": "1JcWENd6NagB"
      },
      "source": [
        "imputer = SimpleImputer(strategy=\"most_frequent\")\n",
        "titanic3[\"Embarked\"] = imputer.fit_transform(pd.DataFrame(titanic3[\"Embarked\"]))\n",
        "imputer = SimpleImputer(strategy=\"median\")\n",
        "titanic3[\"Age\"] = imputer.fit_transform(pd.DataFrame(titanic3[\"Age\"]))\n",
        "print('After filling missing values of Age\\n', titanic3.isna().sum())\n",
        "\n",
        "print(titanic3.shape)\n",
        "print(titanic3)\n",
        "\n",
        "col_trans = make_column_transformer(\n",
        "    #(SimpleImputer(strategy=\"most_frequent\", add_indicator=True), [\"Embarked\"]),\n",
        "    #(SimpleImputer(strategy=\"median\", add_indicator=True), [\"Age\"]),\n",
        "    (OneHotEncoder(), ['Sex', 'Embarked']),\n",
        "    remainder = 'passthrough')\n",
        "\n",
        "titanic_ce = col_trans.fit_transform(titanic3)\n",
        "\n",
        "np.set_printoptions(threshold=np.inf, linewidth=np.inf, suppress=True, precision=2)\n",
        "print(titanic_ce[0:20, ])"
      ],
      "execution_count": null,
      "outputs": []
    },
    {
      "cell_type": "markdown",
      "metadata": {
        "id": "W50ActG5-2me"
      },
      "source": [
        "## Exercise\n",
        "\n",
        "Read Category Encoders for other encoding methods on https://contrib.scikit-learn.org/category_encoders/"
      ]
    },
    {
      "cell_type": "markdown",
      "metadata": {
        "id": "UW2m5iwMevSa"
      },
      "source": [
        "# First machine learning project\n",
        "Finally we put things together to practice our first machine learning project, here we build a k-nerest neighbours model to predict Suvival based on passengers' data."
      ]
    },
    {
      "cell_type": "markdown",
      "metadata": {
        "id": "7tkmGLJBfHxL"
      },
      "source": [
        "## Get data"
      ]
    },
    {
      "cell_type": "code",
      "metadata": {
        "id": "ISWF_tuMHWEK"
      },
      "source": [
        "import pandas as pd \n",
        "\n",
        "# Get a new copy of titanic data. \n",
        "# We ignore 'PassengerId', 'Name' and 'Ticket', as they are useless for machine learnign.\n",
        "# We also ignore 'Cabin' as it contains too many missing values.\n",
        "titanic = pd.read_csv('http://bit.ly/kaggletrain')\n",
        "titanic.drop(['PassengerId', 'Name', 'Ticket'], axis=1, inplace = True)\n",
        "\n",
        "pd.set_option('display.max_columns', None, 'max_colwidth', None, 'display.expand_frame_repr', False)\n",
        "print(titanic)\n",
        "\n",
        "titanic_x = titanic[['Pclass', 'Sex', 'Age', 'SibSp', 'Parch', 'Fare', 'Embarked']]\n",
        "titanic_y = titanic[['Survived']]\n",
        "\n",
        "print(titanic_x.head(20))\n",
        "#print(titanic_x['Embarked'].isna().sum())"
      ],
      "execution_count": null,
      "outputs": []
    },
    {
      "cell_type": "markdown",
      "metadata": {
        "id": "7BuO71WdfTlG"
      },
      "source": [
        "## Split data into training set and test set"
      ]
    },
    {
      "cell_type": "code",
      "metadata": {
        "id": "tEQcalcmfbnn"
      },
      "source": [
        "from sklearn.model_selection import train_test_split\n",
        "\n",
        "X_train, X_test, y_train, y_test = train_test_split(titanic_x, titanic_y, test_size=0.3, random_state=42)\n",
        "X_train"
      ],
      "execution_count": null,
      "outputs": []
    },
    {
      "cell_type": "markdown",
      "metadata": {
        "id": "m8luxwUYG_o7"
      },
      "source": [
        "## Preprocessing Pipeline & ColumnTransformer\n",
        "We now put all transformations using Pipeline & ColumnTransformer. Doing so not only make code tidy but also have advantages:\n",
        "\n",
        "*   allow to include the preprocessing steps in the hyperparameter tuning (will learn later)\n",
        "*   avoid data leakage, i.e., avoid making the mistake of using any test data for model training\n",
        "*   guarantee that your data is always preprocessed the same way. For example,  if a categorical feature has a category in the test set that does not occur in the training set or a category in the training set that doesn't occur in the test set.\n",
        "\n"
      ]
    },
    {
      "cell_type": "code",
      "metadata": {
        "id": "Nl0M9DOcJVId"
      },
      "source": [
        "from sklearn.pipeline import Pipeline\n",
        "from sklearn.impute import SimpleImputer\n",
        "from sklearn.preprocessing import OneHotEncoder, MinMaxScaler, StandardScaler\n",
        "from sklearn.compose import ColumnTransformer\n",
        "#from sklearn.compose import make_column_transformer\n",
        "\n",
        "# transformer for categorical features\n",
        "categorical_features = ['Pclass', 'Sex', 'Embarked']\n",
        "categorical_transformer = Pipeline(\n",
        "    [\n",
        "        ('imputer_cat', SimpleImputer(strategy = 'most_frequent')),\n",
        "        ('onehot', OneHotEncoder(handle_unknown = 'ignore'))\n",
        "    ]\n",
        ")\n",
        "\n",
        "# transformer for numerical features\n",
        "numeric_features = ['Age', 'SibSp', 'Parch', 'Fare']\n",
        "numeric_transformer = Pipeline(\n",
        "    [\n",
        "        ('imputer_num', SimpleImputer(strategy = 'median')),\n",
        "        ('scaler', StandardScaler())\n",
        "    ]\n",
        ")\n",
        "\n",
        "# combine them in a single ColumnTransformer\n",
        "preprocessor = ColumnTransformer(\n",
        "    [\n",
        "        ('categoricals', categorical_transformer, categorical_features),\n",
        "        ('numericals', numeric_transformer, numeric_features)\n",
        "    ],\n",
        "    remainder = 'drop'\n",
        ")\n",
        "\n",
        "\n",
        "titanic_processed = preprocessor.fit_transform(titanic_x)\n",
        "\n",
        "np.set_printoptions(threshold=np.inf, linewidth=np.inf, suppress=True, precision=2)\n",
        "\n",
        "print(titanic_processed[0:20, :])"
      ],
      "execution_count": null,
      "outputs": []
    },
    {
      "cell_type": "markdown",
      "metadata": {
        "id": "ybRi-22yp3sv"
      },
      "source": [
        "## Define the model\n",
        "We use a pipeline to put together the preprocessor from above and the k-nearest neighbours classifier"
      ]
    },
    {
      "cell_type": "code",
      "metadata": {
        "id": "GZqn1-AoqSyG"
      },
      "source": [
        "from sklearn.neighbors import KNeighborsClassifier\n",
        "\n",
        "myClassfier = Pipeline(\n",
        "    [\n",
        "     ('preprocessing', preprocessor),\n",
        "     ('classifier', KNeighborsClassifier())\n",
        "    ]\n",
        ")"
      ],
      "execution_count": null,
      "outputs": []
    },
    {
      "cell_type": "markdown",
      "metadata": {
        "id": "zth4PnClryoI"
      },
      "source": [
        "## Train the model"
      ]
    },
    {
      "cell_type": "code",
      "metadata": {
        "id": "2SO4C-Unr2Pg"
      },
      "source": [
        "\n",
        "myClassfier.fit(X_train, y_train)\n"
      ],
      "execution_count": null,
      "outputs": []
    },
    {
      "cell_type": "markdown",
      "metadata": {
        "id": "H9dbx26Or7gk"
      },
      "source": [
        "## Evaluate the model\n",
        "We evalute the performance of the trained classifier on test set."
      ]
    },
    {
      "cell_type": "code",
      "metadata": {
        "id": "uRJ4jFOCr_BU"
      },
      "source": [
        "from sklearn.metrics import accuracy_score\n",
        "\n",
        "y_pred = myClassfier.predict(X_test)\n",
        "accuracy_score(y_test, y_pred)"
      ],
      "execution_count": null,
      "outputs": []
    },
    {
      "cell_type": "markdown",
      "metadata": {
        "id": "bzbr88wr1umw"
      },
      "source": [
        "# Exercise\n",
        "Download Credit Approval Data Set from UCI Machine Learning Repsoitory. Do:\n",
        "\n",
        "- practicing exploratory data analysis\n",
        "- dealing with missing values if any\n",
        "- encoding categorical features\n",
        "- scaling features\n",
        "- if you have time, implementing a classifier to predict if a credit card application is approved (+ of the last column) or reject (- of the last column)\n",
        "\n",
        "You can read more information about the data set from https://archive.ics.uci.edu/ml/datasets/Credit+Approval"
      ]
    },
    {
      "cell_type": "code",
      "metadata": {
        "id": "sYNurIkY17b0"
      },
      "source": [
        "import pandas as pd\n",
        "\n",
        "# Get Credit Approval Data Set\n",
        "crx = pd.read_csv('https://archive.ics.uci.edu/ml/machine-learning-databases/credit-screening/crx.data', header='infer')\n",
        "crx.columns = ['A1', 'A2', 'A3', 'A4', 'A5', 'A6', 'A7', 'A8', 'A9', 'A10', 'A11', 'A12', 'A13', 'A14', 'A15', 'Target']\n",
        "\n",
        "# Start writing your IPython notebook............\n"
      ],
      "execution_count": null,
      "outputs": []
    }
  ]
}